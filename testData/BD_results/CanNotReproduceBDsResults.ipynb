{
 "cells": [
  {
   "cell_type": "markdown",
   "id": "c9699bc8-b919-4e52-9c26-0dd221dd882f",
   "metadata": {},
   "source": [
    "# Compare Rustody - vs - BD Results\n",
    "\n",
    "I hope that this will now show that my tool does work..."
   ]
  },
  {
   "cell_type": "code",
   "execution_count": 1,
   "id": "de0cf2bb-1377-4a6b-a98e-64928f63a0fe",
   "metadata": {},
   "outputs": [
    {
     "name": "stdout",
     "output_type": "stream",
     "text": [
      "\u001b[0m\u001b[0m\u001b[0m\u001b[0m\u001b[0m\u001b[32mrustody\u001b[0m\u001b[0m \u001b[0m\u001b[0m1.2.5\u001b[0m\u001b[0m\n",
      "\u001b[0m\u001b[0mStefan L. <stefan.lang@med.lu.se>\u001b[0m\u001b[0m\n",
      "\u001b[0m\u001b[0m\u001b[0m\u001b[0mQuantifies a DB Rhapsody experiment and creates sparse matrix outfiles. You need quite long R1 and\n",
      "R2 reads for this! (>70R1 and >70R2 \\[v1\\] and 52 bp reads for v2.96 and v2.384)\u001b[0m\u001b[0m\n",
      "\u001b[0m\u001b[0m\n",
      "\u001b[0m\u001b[0m\u001b[33mUSAGE:\u001b[0m\u001b[0m\n",
      "    \u001b[0m\u001b[0mquantify_rhapsody_multi [OPTIONS] --reads <READS> --file <FILE> --specie <SPECIE> --outpath <OUTPATH> --min-umi <MIN_UMI> --version <VERSION>\u001b[0m\u001b[0m\n",
      "\n",
      "\u001b[0m\u001b[0m\u001b[33mOPTIONS:\n",
      "\u001b[0m\u001b[0m    \u001b[0m\u001b[0m\u001b[32m-a\u001b[0m\u001b[0m, \u001b[0m\u001b[0m\u001b[32m--antibody\u001b[0m\u001b[0m \u001b[0m\u001b[0m\u001b[32m<ANTIBODY>\u001b[0m\u001b[0m          \u001b[0m\u001b[0mthe fasta database containing the antibody tags\u001b[0m\u001b[0m\n",
      "\u001b[0m\u001b[0m    \u001b[0m\u001b[0m\u001b[32m-e\u001b[0m\u001b[0m, \u001b[0m\u001b[0m\u001b[32m--expression\u001b[0m\u001b[0m \u001b[0m\u001b[0m\u001b[32m<EXPRESSION>\u001b[0m\u001b[0m      \u001b[0m\u001b[0mthe fasta database containing the genes\u001b[0m\u001b[0m\n",
      "\u001b[0m\u001b[0m    \u001b[0m\u001b[0m    \u001b[0m\u001b[0m\u001b[32m--exp\u001b[0m\u001b[0m \u001b[0m\u001b[0m\u001b[32m<EXP>\u001b[0m\u001b[0m                    \u001b[0m\u001b[0mthis is a BD rhapsody or a 10x expression experiment?\u001b[0m\u001b[0m\n",
      "\u001b[0m\u001b[0m                                       \u001b[0m\u001b[0m[default: bd]\u001b[0m\u001b[0m\n",
      "\u001b[0m\u001b[0m    \u001b[0m\u001b[0m\u001b[32m-f\u001b[0m\u001b[0m, \u001b[0m\u001b[0m\u001b[32m--file\u001b[0m\u001b[0m \u001b[0m\u001b[0m\u001b[32m<FILE>\u001b[0m\u001b[0m                  \u001b[0m\u001b[0mthe input R2 samples file\u001b[0m\u001b[0m\n",
      "\u001b[0m\u001b[0m    \u001b[0m\u001b[0m    \u001b[0m\u001b[0m\u001b[32m--gene-kmers\u001b[0m\u001b[0m \u001b[0m\u001b[0m\u001b[32m<GENE_KMERS>\u001b[0m\u001b[0m      \u001b[0m\u001b[0mminimal sequencing quality [default: 32]\u001b[0m\u001b[0m\n",
      "\u001b[0m\u001b[0m    \u001b[0m\u001b[0m\u001b[32m-h\u001b[0m\u001b[0m, \u001b[0m\u001b[0m\u001b[32m--help\u001b[0m\u001b[0m                         \u001b[0m\u001b[0mPrint help information\u001b[0m\u001b[0m\n",
      "\u001b[0m\u001b[0m    \u001b[0m\u001b[0m\u001b[32m-i\u001b[0m\u001b[0m, \u001b[0m\u001b[0m\u001b[32m--index\u001b[0m\u001b[0m \u001b[0m\u001b[0m\u001b[32m<INDEX>\u001b[0m\u001b[0m                \u001b[0m\u001b[0ma pre-defined index folder produced by the cerateIndex scipt\u001b[0m\u001b[0m\n",
      "\u001b[0m\u001b[0m    \u001b[0m\u001b[0m\u001b[32m-m\u001b[0m\u001b[0m, \u001b[0m\u001b[0m\u001b[32m--min-umi\u001b[0m\u001b[0m \u001b[0m\u001b[0m\u001b[32m<MIN_UMI>\u001b[0m\u001b[0m            \u001b[0m\u001b[0mthe minimum (UMI) reads per cell (sample + genes + antibody\u001b[0m\u001b[0m\n",
      "\u001b[0m\u001b[0m                                       \u001b[0m\u001b[0mcombined)\u001b[0m\u001b[0m\n",
      "\u001b[0m\u001b[0m    \u001b[0m\u001b[0m    \u001b[0m\u001b[0m\u001b[32m--max-reads\u001b[0m\u001b[0m \u001b[0m\u001b[0m\u001b[32m<MAX_READS>\u001b[0m\u001b[0m        \u001b[0m\u001b[0mOptional: end the analysis after processing <max_reads> cell\u001b[0m\u001b[0m\n",
      "\u001b[0m\u001b[0m                                       \u001b[0m\u001b[0mfastq entries [default: 18446744073709551615]\u001b[0m\u001b[0m\n",
      "\u001b[0m\u001b[0m    \u001b[0m\u001b[0m    \u001b[0m\u001b[0m\u001b[32m--min-quality\u001b[0m\u001b[0m \u001b[0m\u001b[0m\u001b[32m<MIN_QUALITY>\u001b[0m\u001b[0m    \u001b[0m\u001b[0mminimal sequencing quality [default: 25]\u001b[0m\u001b[0m\n",
      "\u001b[0m\u001b[0m    \u001b[0m\u001b[0m\u001b[32m-n\u001b[0m\u001b[0m, \u001b[0m\u001b[0m\u001b[32m--num-threads\u001b[0m\u001b[0m \u001b[0m\u001b[0m\u001b[32m<NUM_THREADS>\u001b[0m\u001b[0m    \u001b[0m\u001b[0mhow many threads to use to analyze this (default max\u001b[0m\u001b[0m\n",
      "\u001b[0m\u001b[0m                                       \u001b[0m\u001b[0mavailable)\u001b[0m\u001b[0m\n",
      "\u001b[0m\u001b[0m    \u001b[0m\u001b[0m\u001b[32m-o\u001b[0m\u001b[0m, \u001b[0m\u001b[0m\u001b[32m--outpath\u001b[0m\u001b[0m \u001b[0m\u001b[0m\u001b[32m<OUTPATH>\u001b[0m\u001b[0m            \u001b[0m\u001b[0mthe outpath\u001b[0m\u001b[0m\n",
      "\u001b[0m\u001b[0m    \u001b[0m\u001b[0m\u001b[32m-r\u001b[0m\u001b[0m, \u001b[0m\u001b[0m\u001b[32m--reads\u001b[0m\u001b[0m \u001b[0m\u001b[0m\u001b[32m<READS>\u001b[0m\u001b[0m                \u001b[0m\u001b[0mthe input R1 reads file\u001b[0m\u001b[0m\n",
      "\u001b[0m\u001b[0m    \u001b[0m\u001b[0m\u001b[32m-s\u001b[0m\u001b[0m, \u001b[0m\u001b[0m\u001b[32m--specie\u001b[0m\u001b[0m \u001b[0m\u001b[0m\u001b[32m<SPECIE>\u001b[0m\u001b[0m              \u001b[0m\u001b[0mthe specie of the library [mouse, human]\u001b[0m\u001b[0m\n",
      "\u001b[0m\u001b[0m    \u001b[0m\u001b[0m\u001b[32m-v\u001b[0m\u001b[0m, \u001b[0m\u001b[0m\u001b[32m--version\u001b[0m\u001b[0m \u001b[0m\u001b[0m\u001b[32m<VERSION>\u001b[0m\u001b[0m            \u001b[0m\u001b[0mthe version of beads you used v1, v2.96 or v2.384\u001b[0m\u001b[0m\u001b[0m\u001b[0m\u001b[0m\u001b[0m\n",
      "\u001b[0m"
     ]
    }
   ],
   "source": [
    "! quantify_rhapsody_multi -h"
   ]
  },
  {
   "cell_type": "code",
   "execution_count": 2,
   "id": "2b677599-cf11-424f-b6d3-a9f641a13061",
   "metadata": {},
   "outputs": [
    {
     "name": "stdout",
     "output_type": "stream",
     "text": [
      "time: 2.32 s (started: 2024-01-26 15:24:48 +01:00)\n"
     ]
    }
   ],
   "source": [
    "%load_ext autotime\n",
    "\n",
    "import scvelo as scv\n",
    "import loompy\n",
    "import scanpy\n",
    "import igraph\n",
    "import phate\n",
    "import glob, os\n",
    "import pandas as pd\n",
    "import os\n",
    "import re\n",
    "import subprocess\n",
    "from collections import Counter\n",
    "import numpy as np\n",
    "from shutil import rmtree\n",
    "import os\n",
    "import anndata\n",
    "\n",
    "import h5py\n",
    "from shutil import copyfile\n",
    "\n",
    "\n",
    "def copyFiles(files, to):\n",
    "    for f in files:\n",
    "        name = os.path.basename( f )\n",
    "        print( f\"copy {f} to {to}\" )\n",
    "        copyfile( f, os.path.join(to, name ) )\n",
    "    print( \"all copied\" )"
   ]
  },
  {
   "cell_type": "code",
   "execution_count": 3,
   "id": "dd1604b1-f703-4714-bbd4-ef43db21b9e8",
   "metadata": {
    "scrolled": true,
    "tags": []
   },
   "outputs": [
    {
     "name": "stdout",
     "output_type": "stream",
     "text": [
      "Analysis will stop after having processed 18446744073709551615 fastq entries containing a cell info\n",
      "\n",
      "init models\n",
      "the log file: Mapping_log.txt\n",
      "Changing the expression start gene id to 398\n",
      "After indexing all fastq files we have the following indices:\n",
      "the mRNA index:\n",
      "I have 41210 kmers for 398 genes with 0.16652039% duplicate entries\n",
      "gene names like 'phiX174'\n",
      "gene_ids range from Some(0) to Some(397)\n",
      "\n",
      "the sample id index:\n",
      "I have 384 kmers for 12 genes with 0% duplicate entries\n",
      "gene names like 'Sample12'\n",
      "gene_ids range from Some(398) to Some(409)\n",
      "\n",
      "and the antibodies index:\n",
      "This index is empty\n",
      "\n",
      "Writing index version 6\n",
      "with kmer_len 32\n",
      "And a total of 41210 data entries\n",
      "\n",
      "Parsing file pair 1\n",
      "\n",
      "I am using 12 cpus\n",
      "\u001b[2K\u001b[1m\u001b[2m\u001b[0m   1.90 mio reads (62.68% with cell_id, 61.58% with gene_id)                    \n",
      "Parsing file pair 2\n",
      "\n",
      "I am using 12 cpus\n",
      "\u001b[2K\u001b[1m\u001b[2m\u001b[0m   3.83 mio reads (64.21% with cell_id, 62.95% with gene_id)                    \n",
      "Parsing file pair 3\n",
      "\n",
      "I am using 12 cpus\n",
      "\u001b[2K\u001b[1m\u001b[2m\u001b[0m   5.79 mio reads (64.03% with cell_id, 62.81% with gene_id)                    \n",
      "Parsing file pair 4\n",
      "\n",
      "I am using 12 cpus\n",
      "\u001b[2K\u001b[1m\u001b[2m\u001b[0m   7.72 mio reads (63.68% with cell_id, 62.44% with gene_id)                    \n",
      "\n",
      "Writing outfiles ...\n",
      "filtering cells\n",
      "Dropping cell with too little counts (n=146275)\n",
      "2768 cells have passed the cutoff of 200 umi counts per cell.\n",
      "\n",
      "\n",
      "writing gene expression\n",
      "sparse Matrix: 2768 cell(s), 367 gene(s) and 417924 entries written to path Ok(\"/mnt/data2/RhapsodyTest/VDJ_v1_example/rustify_testData_result/BD_Rhapsody_expression\"); \n",
      "Writing Antibody counts\n",
      "No genes to report on - no data written to path Some(\"/mnt/data2/RhapsodyTest/VDJ_v1_example/rustify_testData_result/BD_Rhapsody_antibodies\")\n",
      "Writing samples table\n",
      "dense matrix: 2768 cell written\n",
      "\n",
      "Summary:\n",
      "cellular   reads  : 4915366 reads (63.68% of total)\n",
      "no cell ID reads  : 2288612 reads (29.65% of total)\n",
      "no gene ID reads  : 0 reads (0.00% of total)\n",
      "filtered   reads  : 514614 reads (6.67% of total)\n",
      " ->        polyA  : 0 reads (0.00% of total)\n",
      " -> bad qualiity  : 511637 reads (6.63% of total)\n",
      " ->    too short  : 1009 reads (0.01% of total)\n",
      " ->          N's  : 1968 reads (0.03% of total)\n",
      "\n",
      "total      reads  : 7718592 reads\n",
      "\n",
      "collected read counts:\n",
      "expression reads  : 4819359 reads (98.05% of cellular)\n",
      "antibody reads    : 0 reads (0.00% of cellular)\n",
      "sample reads      : 0 reads (0.00% of cellular)\n",
      "\n",
      "reported UMI counts:\n",
      "expression reads  : 2794452 UMIs (56.85% of cellular)\n",
      "antibody reads    : 0 UMIs (0.00% of cellular)\n",
      "sample reads      : 0 UMIs (0.00% of cellular)\n",
      "\n",
      "PCR duplicates or bad cells: 2120914 reads (43.15% of cellular)\n",
      "\n",
      "timings:\n",
      "   overall run time 0 h 1 min 43 sec 121 millisec\n",
      "   file-io run time 0 h 0 min 15 sec 191 millisec\n",
      "single-cpu run time 0 h 0 min 2 sec 92 millisec\n",
      " multi-cpu run time 0 h 1 min 24 sec 174 millisec\n",
      "\n",
      "\n",
      "Cell->Sample table written to \"/mnt/data2/RhapsodyTest/VDJ_v1_example/rustify_testData_result/SampleCounts.tsv\"\n",
      "\n",
      "quantify_rhapsody finished in 0h 1min 43 sec 122milli sec\n",
      "\n",
      "time: 1min 43s (started: 2024-01-26 15:24:50 +01:00)\n"
     ]
    }
   ],
   "source": [
    "exe = \"quantify_rhapsody_multi\"\n",
    "R1 = [\"/mnt/data2/RhapsodyTest/VDJ_v1_example/RhapVDJDemo-mRNA_S5_L004_R1_001.fastq.gz\"\n",
    "      ,\"/mnt/data2/RhapsodyTest/VDJ_v1_example/RhapVDJDemo-mRNA_S5_L003_R1_001.fastq.gz\"\n",
    "      ,\"/mnt/data2/RhapsodyTest/VDJ_v1_example/RhapVDJDemo-mRNA_S5_L001_R1_001.fastq.gz\"\n",
    "      ,\"/mnt/data2/RhapsodyTest/VDJ_v1_example/RhapVDJDemo-mRNA_S5_L002_R1_001.fastq.gz\"\n",
    "     ]\n",
    "r1 = \",\".join(R1)\n",
    "R2 = [ \"/mnt/data2/RhapsodyTest/VDJ_v1_example/RhapVDJDemo-mRNA_S5_L004_R2_001.fastq.gz\"\n",
    "      ,\"/mnt/data2/RhapsodyTest/VDJ_v1_example/RhapVDJDemo-mRNA_S5_L002_R2_001.fastq.gz\"\n",
    "      ,\"/mnt/data2/RhapsodyTest/VDJ_v1_example/RhapVDJDemo-mRNA_S5_L001_R2_001.fastq.gz\"\n",
    "      ,\"/mnt/data2/RhapsodyTest/VDJ_v1_example/RhapVDJDemo-mRNA_S5_L003_R2_001.fastq.gz\"\n",
    "]\n",
    "r2 = \",\".join(R2)\n",
    "out = \"/mnt/data2/RhapsodyTest/VDJ_v1_example/rustify_testData_result\"\n",
    "exp = \"/mnt/data2/RhapsodyTest/VDJ_v1_example/BD_Rhapsody_Immune_Response_Panel_Hs.fasta\"\n",
    "\n",
    "! {exe} -r {r1} -f {r2} -o {out} -s human -e {exp} -m 200 -v 'v1' 1>&2"
   ]
  },
  {
   "cell_type": "code",
   "execution_count": 4,
   "id": "1439dfff-e57a-4a40-a168-86caffefeba7",
   "metadata": {},
   "outputs": [
    {
     "data": {
      "text/plain": [
       "AnnData object with n_obs × n_vars = 2723 × 367\n",
       "    obs: 'Cell_Type_Experimental', 'Total_VDJ_Read_Count', 'Total_VDJ_Molecule_Count', 'BCR_Heavy_V_gene_Dominant', 'BCR_Heavy_D_gene_Dominant', 'BCR_Heavy_J_gene_Dominant', 'BCR_Heavy_C_gene_Dominant', 'BCR_Heavy_CDR3_Nucleotide_Dominant', 'BCR_Heavy_CDR3_Translation_Dominant', 'BCR_Heavy_Read_Count', 'BCR_Heavy_Molecule_Count', 'BCR_Light_V_gene_Dominant', 'BCR_Light_J_gene_Dominant', 'BCR_Light_C_gene_Dominant', 'BCR_Light_CDR3_Nucleotide_Dominant', 'BCR_Light_CDR3_Translation_Dominant', 'BCR_Light_Read_Count', 'BCR_Light_Molecule_Count', 'TCR_Alpha_Gamma_V_gene_Dominant', 'TCR_Alpha_Gamma_J_gene_Dominant', 'TCR_Alpha_Gamma_C_gene_Dominant', 'TCR_Alpha_Gamma_CDR3_Nucleotide_Dominant', 'TCR_Alpha_Gamma_CDR3_Translation_Dominant', 'TCR_Alpha_Gamma_Read_Count', 'TCR_Alpha_Gamma_Molecule_Count', 'TCR_Beta_Delta_V_gene_Dominant', 'TCR_Beta_Delta_D_gene_Dominant', 'TCR_Beta_Delta_J_gene_Dominant', 'TCR_Beta_Delta_C_gene_Dominant', 'TCR_Beta_Delta_CDR3_Nucleotide_Dominant', 'TCR_Beta_Delta_CDR3_Translation_Dominant', 'TCR_Beta_Delta_Read_Count', 'TCR_Beta_Delta_Molecule_Count', 'BCR_Paired_Chains', 'TCR_Paired_Chains'\n",
       "    var: 'Raw_Reads', 'Raw_Molecules', 'Raw_Seq_Depth', 'RSEC_Adjusted_Molecules', 'RSEC_Adjusted_Reads_non-singleton', 'RSEC_Adjusted_Molecules_non-singleton'\n",
       "    uns: 'Pipeline_Inputs', 'Pipeline_Metrics'\n",
       "    obsm: 'X_tsne'"
      ]
     },
     "execution_count": 4,
     "metadata": {},
     "output_type": "execute_result"
    },
    {
     "name": "stdout",
     "output_type": "stream",
     "text": [
      "time: 96.1 ms (started: 2024-01-26 15:26:33 +01:00)\n"
     ]
    }
   ],
   "source": [
    "BD_Data =  anndata.read( 'BD-Demo-VDJ/RhapVDJDemo-BCR.h5ad')\n",
    "BD_Data"
   ]
  },
  {
   "cell_type": "code",
   "execution_count": 5,
   "id": "aaa62a1a-860d-4b90-bde5-18c6f5f9cf32",
   "metadata": {},
   "outputs": [
    {
     "name": "stdout",
     "output_type": "stream",
     "text": [
      "time: 670 µs (started: 2024-01-26 15:26:34 +01:00)\n"
     ]
    }
   ],
   "source": [
    "def readRustodyExpression(path, name):\n",
    "    print(f\"reading Rustody expression from path {path}/BD_Rhapsody_expression/\")\n",
    "    this = scanpy.read_10x_mtx( path+'/BD_Rhapsody_expression/' )\n",
    "    this.obs['sample'] = name\n",
    "    obs1 = pd.read_csv( path+'/SampleCounts.tsv', sep=\"\\t\")\n",
    "    this.obs = this.obs.merge( obs1, left_index= True, right_on = 'CellID' )\n",
    "    this.obs_names = this.obs['CellID'] + \"_\" +  this.obs['sample']#\n",
    "    # we have no sample info here - this whole data is one sample!\n",
    "    #this = this[this.obs['AsignedSampleName'] != \"na\"]\n",
    "    this.obs['AsignedSampleName'] = this.obs['AsignedSampleName'] + \"_\" + this.obs['sample']\n",
    "    return(this)"
   ]
  },
  {
   "cell_type": "code",
   "execution_count": 6,
   "id": "2f442c85-cfba-4356-ad34-0e41e145fef7",
   "metadata": {},
   "outputs": [
    {
     "name": "stdout",
     "output_type": "stream",
     "text": [
      "time: 4.32 ms (started: 2024-01-26 15:26:34 +01:00)\n"
     ]
    }
   ],
   "source": [
    "out = \"/mnt/data2/RhapsodyTest/VDJ_v1_example/rustify_testData_result/\""
   ]
  },
  {
   "cell_type": "code",
   "execution_count": 7,
   "id": "2f0b9b21-b3e7-4c8a-a516-b5557c3bd130",
   "metadata": {},
   "outputs": [
    {
     "name": "stdout",
     "output_type": "stream",
     "text": [
      "reading Rustody expression from path /mnt/data2/RhapsodyTest/VDJ_v1_example/rustify_testData_result//BD_Rhapsody_expression/\n"
     ]
    },
    {
     "data": {
      "text/plain": [
       "AnnData object with n_obs × n_vars = 2768 × 367\n",
       "    obs: 'sample', 'CellID', 'Sample1', 'Sample2', 'Sample3', 'Sample4', 'Sample5', 'Sample6', 'Sample7', 'Sample8', 'Sample9', 'Sample10', 'Sample11', 'Sample12', 'AsignedSampleName', 'FractionTotal', 'n'\n",
       "    var: 'gene_ids', 'feature_types'"
      ]
     },
     "execution_count": 7,
     "metadata": {},
     "output_type": "execute_result"
    },
    {
     "name": "stdout",
     "output_type": "stream",
     "text": [
      "time: 677 ms (started: 2024-01-26 15:26:34 +01:00)\n"
     ]
    }
   ],
   "source": [
    "Rustody_Data = readRustodyExpression( out, 'VDJ_Example_Data')\n",
    "Rustody_Data"
   ]
  },
  {
   "cell_type": "code",
   "execution_count": 8,
   "id": "300ec4d2-0f7f-4c05-a4ca-80cce10435a5",
   "metadata": {},
   "outputs": [
    {
     "name": "stdout",
     "output_type": "stream",
     "text": [
      "time: 701 µs (started: 2024-01-26 15:26:34 +01:00)\n"
     ]
    }
   ],
   "source": [
    "Rustody_Data.obs['source'] = \"Rustody_v1.2.5\"\n",
    "BD_Data.obs['source'] = \"BD_version1\""
   ]
  },
  {
   "cell_type": "code",
   "execution_count": 9,
   "id": "fe1b254f-bbd5-449d-8836-2c161abe1d47",
   "metadata": {},
   "outputs": [
    {
     "data": {
      "text/plain": [
       "Index(['2758', '3516', '7707', '8497', '8834', '10464', '12348', '12375',\n",
       "       '13522'],\n",
       "      dtype='object')"
      ]
     },
     "execution_count": 9,
     "metadata": {},
     "output_type": "execute_result"
    },
    {
     "name": "stdout",
     "output_type": "stream",
     "text": [
      "time: 12.5 ms (started: 2024-01-26 15:26:34 +01:00)\n"
     ]
    }
   ],
   "source": [
    "BD_Data.obs_names[1:10]"
   ]
  },
  {
   "cell_type": "code",
   "execution_count": 10,
   "id": "013f2e98-0901-4f6e-a924-5b51c85b3127",
   "metadata": {},
   "outputs": [
    {
     "data": {
      "text/plain": [
       "Index(['Cell2758_VDJ_Example_Data', 'Cell3516_VDJ_Example_Data',\n",
       "       'Cell7707_VDJ_Example_Data', 'Cell8497_VDJ_Example_Data',\n",
       "       'Cell8834_VDJ_Example_Data', 'Cell10464_VDJ_Example_Data',\n",
       "       'Cell12348_VDJ_Example_Data', 'Cell12375_VDJ_Example_Data',\n",
       "       'Cell13522_VDJ_Example_Data'],\n",
       "      dtype='object')"
      ]
     },
     "execution_count": 10,
     "metadata": {},
     "output_type": "execute_result"
    },
    {
     "name": "stdout",
     "output_type": "stream",
     "text": [
      "time: 2.87 ms (started: 2024-01-26 15:26:34 +01:00)\n"
     ]
    }
   ],
   "source": [
    "Rustody_Data.obs_names[1:10]"
   ]
  },
  {
   "cell_type": "code",
   "execution_count": 11,
   "id": "a17c98aa-8bcd-49f6-83ef-daf474834c1a",
   "metadata": {},
   "outputs": [
    {
     "name": "stdout",
     "output_type": "stream",
     "text": [
      "time: 3.82 ms (started: 2024-01-26 15:26:34 +01:00)\n"
     ]
    }
   ],
   "source": [
    "pattern = re.compile(r'-[01]$')\n",
    "BD_Data.obs['Rustody_Names'] = [ \"Cell\"+str( int(pattern.sub('',BD_Data.obs_names.values[id]))) +\"_\"+ \"VDJ_Example_Data\" for id in range( len(BD_Data.obs_names))]"
   ]
  },
  {
   "cell_type": "code",
   "execution_count": 12,
   "id": "47ae5756-f8b6-4364-9d4e-ff3f2581339e",
   "metadata": {},
   "outputs": [
    {
     "data": {
      "text/plain": [
       "2758      Cell2758_VDJ_Example_Data\n",
       "3516      Cell3516_VDJ_Example_Data\n",
       "7707      Cell7707_VDJ_Example_Data\n",
       "8497      Cell8497_VDJ_Example_Data\n",
       "8834      Cell8834_VDJ_Example_Data\n",
       "10464    Cell10464_VDJ_Example_Data\n",
       "12348    Cell12348_VDJ_Example_Data\n",
       "12375    Cell12375_VDJ_Example_Data\n",
       "13522    Cell13522_VDJ_Example_Data\n",
       "Name: Rustody_Names, dtype: object"
      ]
     },
     "execution_count": 12,
     "metadata": {},
     "output_type": "execute_result"
    },
    {
     "name": "stdout",
     "output_type": "stream",
     "text": [
      "time: 3.06 ms (started: 2024-01-26 15:26:34 +01:00)\n"
     ]
    }
   ],
   "source": [
    "BD_Data.obs['Rustody_Names'][1:10]"
   ]
  },
  {
   "cell_type": "code",
   "execution_count": 13,
   "id": "13ae6006-6839-40e8-b9a1-9b9d7b7e0354",
   "metadata": {},
   "outputs": [
    {
     "data": {
      "text/plain": [
       "Counter({True: 2722, False: 1})"
      ]
     },
     "execution_count": 13,
     "metadata": {},
     "output_type": "execute_result"
    },
    {
     "name": "stdout",
     "output_type": "stream",
     "text": [
      "time: 4.75 ms (started: 2024-01-26 15:26:34 +01:00)\n"
     ]
    }
   ],
   "source": [
    "Counter( [name in Rustody_Data.obs_names for name in BD_Data.obs['Rustody_Names']] )"
   ]
  },
  {
   "cell_type": "code",
   "execution_count": 14,
   "id": "73b85d2a-9613-4f5a-92d0-5dd2a29cb62d",
   "metadata": {},
   "outputs": [
    {
     "data": {
      "text/plain": [
       "Counter({True: 2722, False: 46})"
      ]
     },
     "execution_count": 14,
     "metadata": {},
     "output_type": "execute_result"
    },
    {
     "name": "stdout",
     "output_type": "stream",
     "text": [
      "time: 108 ms (started: 2024-01-26 15:26:34 +01:00)\n"
     ]
    }
   ],
   "source": [
    "Counter( [name in BD_Data.obs['Rustody_Names'].values for name in Rustody_Data.obs_names ] )"
   ]
  },
  {
   "cell_type": "code",
   "execution_count": 15,
   "id": "87a79954-4ca7-44a1-93b9-29fdfdb59e16",
   "metadata": {},
   "outputs": [
    {
     "name": "stdout",
     "output_type": "stream",
     "text": [
      "time: 8.1 ms (started: 2024-01-26 15:26:34 +01:00)\n"
     ]
    }
   ],
   "source": [
    "Rustody_Data = Rustody_Data[[ name for name in BD_Data.obs['Rustody_Names'] if name in Rustody_Data.obs_names]]"
   ]
  },
  {
   "cell_type": "code",
   "execution_count": 16,
   "id": "8ca6388c-ba67-40ab-b516-6816299bcc62",
   "metadata": {},
   "outputs": [
    {
     "name": "stdout",
     "output_type": "stream",
     "text": [
      "time: 12.7 ms (started: 2024-01-26 15:26:34 +01:00)\n"
     ]
    }
   ],
   "source": [
    "BD_Data= BD_Data [BD_Data.obs['Rustody_Names'].isin( [ name  for name in BD_Data.obs['Rustody_Names'] if name in Rustody_Data.obs_names] )]"
   ]
  },
  {
   "cell_type": "code",
   "execution_count": 17,
   "id": "beb7d465-c0d4-45a8-b8ee-137ed034658c",
   "metadata": {},
   "outputs": [
    {
     "data": {
      "text/plain": [
       "['CCL1', 'CCL2', 'IL1RL1', 'IL5']"
      ]
     },
     "execution_count": 17,
     "metadata": {},
     "output_type": "execute_result"
    },
    {
     "name": "stdout",
     "output_type": "stream",
     "text": [
      "time: 1.57 ms (started: 2024-01-26 15:26:34 +01:00)\n"
     ]
    }
   ],
   "source": [
    "[name for name in BD_Data.var_names if name not in Rustody_Data.var_names ]"
   ]
  },
  {
   "cell_type": "code",
   "execution_count": 18,
   "id": "4982368e-a8de-4010-8a45-d51ce289e4eb",
   "metadata": {},
   "outputs": [
    {
     "data": {
      "text/plain": [
       "['CHI3L1', 'IL22', 'ZBED2', 'phiX174']"
      ]
     },
     "execution_count": 18,
     "metadata": {},
     "output_type": "execute_result"
    },
    {
     "name": "stdout",
     "output_type": "stream",
     "text": [
      "time: 2.24 ms (started: 2024-01-26 15:26:34 +01:00)\n"
     ]
    }
   ],
   "source": [
    "[name for name in Rustody_Data.var_names if name not in BD_Data.var_names ]"
   ]
  },
  {
   "cell_type": "code",
   "execution_count": 19,
   "id": "34f57d24-dec3-4372-ad80-03dd6747d8a1",
   "metadata": {},
   "outputs": [
    {
     "name": "stdout",
     "output_type": "stream",
     "text": [
      "time: 2.29 ms (started: 2024-01-26 15:26:34 +01:00)\n"
     ]
    }
   ],
   "source": [
    "from scipy.stats.stats import pearsonr   "
   ]
  },
  {
   "cell_type": "code",
   "execution_count": 20,
   "id": "0d0ede43-a0d3-42e0-bd33-bb432bc9e402",
   "metadata": {},
   "outputs": [
    {
     "data": {
      "text/plain": [
       "Index(['1229', '2758', '3516', '7707', '8497', '8834', '10464', '12348',\n",
       "       '12375', '13522',\n",
       "       ...\n",
       "       '14019899', '14022966', '14030253', '14031393', '14032909', '14036049',\n",
       "       '14039502', '14042139', '14042509', '14043327'],\n",
       "      dtype='object', length=2722)"
      ]
     },
     "execution_count": 20,
     "metadata": {},
     "output_type": "execute_result"
    },
    {
     "name": "stdout",
     "output_type": "stream",
     "text": [
      "time: 3.3 ms (started: 2024-01-26 15:26:34 +01:00)\n"
     ]
    }
   ],
   "source": [
    "BD_Data.obs_names"
   ]
  },
  {
   "cell_type": "code",
   "execution_count": 21,
   "id": "f64d8be3-f488-4349-a5fc-2eb65fd3d1c8",
   "metadata": {},
   "outputs": [
    {
     "data": {
      "text/plain": [
       "Index(['Cell1229_VDJ_Example_Data', 'Cell2758_VDJ_Example_Data',\n",
       "       'Cell3516_VDJ_Example_Data', 'Cell7707_VDJ_Example_Data',\n",
       "       'Cell8497_VDJ_Example_Data', 'Cell8834_VDJ_Example_Data',\n",
       "       'Cell10464_VDJ_Example_Data', 'Cell12348_VDJ_Example_Data',\n",
       "       'Cell12375_VDJ_Example_Data', 'Cell13522_VDJ_Example_Data',\n",
       "       ...\n",
       "       'Cell14019899_VDJ_Example_Data', 'Cell14022966_VDJ_Example_Data',\n",
       "       'Cell14030253_VDJ_Example_Data', 'Cell14031393_VDJ_Example_Data',\n",
       "       'Cell14032909_VDJ_Example_Data', 'Cell14036049_VDJ_Example_Data',\n",
       "       'Cell14039502_VDJ_Example_Data', 'Cell14042139_VDJ_Example_Data',\n",
       "       'Cell14042509_VDJ_Example_Data', 'Cell14043327_VDJ_Example_Data'],\n",
       "      dtype='object', length=2722)"
      ]
     },
     "execution_count": 21,
     "metadata": {},
     "output_type": "execute_result"
    },
    {
     "name": "stdout",
     "output_type": "stream",
     "text": [
      "time: 3.39 ms (started: 2024-01-26 15:26:34 +01:00)\n"
     ]
    }
   ],
   "source": [
    "Rustody_Data.obs_names"
   ]
  },
  {
   "cell_type": "code",
   "execution_count": 22,
   "id": "1e0a1e9f-7957-4930-8e58-7bb7430db64d",
   "metadata": {},
   "outputs": [
    {
     "data": {
      "text/html": [
       "<div>\n",
       "<style scoped>\n",
       "    .dataframe tbody tr th:only-of-type {\n",
       "        vertical-align: middle;\n",
       "    }\n",
       "\n",
       "    .dataframe tbody tr th {\n",
       "        vertical-align: top;\n",
       "    }\n",
       "\n",
       "    .dataframe thead th {\n",
       "        text-align: right;\n",
       "    }\n",
       "</style>\n",
       "<table border=\"1\" class=\"dataframe\">\n",
       "  <thead>\n",
       "    <tr style=\"text-align: right;\">\n",
       "      <th></th>\n",
       "      <th>0</th>\n",
       "      <th>1</th>\n",
       "      <th>gname</th>\n",
       "    </tr>\n",
       "  </thead>\n",
       "  <tbody>\n",
       "    <tr>\n",
       "      <th>0</th>\n",
       "      <td>0.571035</td>\n",
       "      <td>2.159968e-235</td>\n",
       "      <td>ADA</td>\n",
       "    </tr>\n",
       "    <tr>\n",
       "      <th>1</th>\n",
       "      <td>0.512823</td>\n",
       "      <td>1.739632e-182</td>\n",
       "      <td>ADGRE1</td>\n",
       "    </tr>\n",
       "    <tr>\n",
       "      <th>2</th>\n",
       "      <td>0.481309</td>\n",
       "      <td>7.171231e-158</td>\n",
       "      <td>ADGRG3</td>\n",
       "    </tr>\n",
       "    <tr>\n",
       "      <th>3</th>\n",
       "      <td>0.455430</td>\n",
       "      <td>1.686910e-139</td>\n",
       "      <td>AIM2</td>\n",
       "    </tr>\n",
       "    <tr>\n",
       "      <th>4</th>\n",
       "      <td>0.729737</td>\n",
       "      <td>0.000000e+00</td>\n",
       "      <td>ANXA5</td>\n",
       "    </tr>\n",
       "    <tr>\n",
       "      <th>...</th>\n",
       "      <td>...</td>\n",
       "      <td>...</td>\n",
       "      <td>...</td>\n",
       "    </tr>\n",
       "    <tr>\n",
       "      <th>358</th>\n",
       "      <td>0.749973</td>\n",
       "      <td>0.000000e+00</td>\n",
       "      <td>XBP1</td>\n",
       "    </tr>\n",
       "    <tr>\n",
       "      <th>359</th>\n",
       "      <td>0.689096</td>\n",
       "      <td>0.000000e+00</td>\n",
       "      <td>YBX3</td>\n",
       "    </tr>\n",
       "    <tr>\n",
       "      <th>360</th>\n",
       "      <td>0.336809</td>\n",
       "      <td>3.458320e-73</td>\n",
       "      <td>ZAP70</td>\n",
       "    </tr>\n",
       "    <tr>\n",
       "      <th>361</th>\n",
       "      <td>0.417928</td>\n",
       "      <td>1.516947e-115</td>\n",
       "      <td>ZBTB16</td>\n",
       "    </tr>\n",
       "    <tr>\n",
       "      <th>362</th>\n",
       "      <td>0.623364</td>\n",
       "      <td>6.447084e-293</td>\n",
       "      <td>ZNF683</td>\n",
       "    </tr>\n",
       "  </tbody>\n",
       "</table>\n",
       "<p>363 rows × 3 columns</p>\n",
       "</div>"
      ],
      "text/plain": [
       "            0              1   gname\n",
       "0    0.571035  2.159968e-235     ADA\n",
       "1    0.512823  1.739632e-182  ADGRE1\n",
       "2    0.481309  7.171231e-158  ADGRG3\n",
       "3    0.455430  1.686910e-139    AIM2\n",
       "4    0.729737   0.000000e+00   ANXA5\n",
       "..        ...            ...     ...\n",
       "358  0.749973   0.000000e+00    XBP1\n",
       "359  0.689096   0.000000e+00    YBX3\n",
       "360  0.336809   3.458320e-73   ZAP70\n",
       "361  0.417928  1.516947e-115  ZBTB16\n",
       "362  0.623364  6.447084e-293  ZNF683\n",
       "\n",
       "[363 rows x 3 columns]"
      ]
     },
     "execution_count": 22,
     "metadata": {},
     "output_type": "execute_result"
    },
    {
     "name": "stdout",
     "output_type": "stream",
     "text": [
      "time: 2.51 s (started: 2024-01-26 15:26:34 +01:00)\n"
     ]
    }
   ],
   "source": [
    "cmp = pd.DataFrame(\n",
    "    [ pearsonr( np.array(BD_Data[:,gene].X.todense()).flatten(), np.array( Rustody_Data[:,gene].X.todense()).flatten() ) for gene in Rustody_Data.var_names if gene in BD_Data.var_names ]  )\n",
    "cmp['gname'] = [gene  for gene in Rustody_Data.var_names if gene in BD_Data.var_names ]\n",
    "cmp"
   ]
  },
  {
   "cell_type": "code",
   "execution_count": 23,
   "id": "cbd4c44e-45fb-4076-92cb-3b9f6ad04ca8",
   "metadata": {},
   "outputs": [
    {
     "data": {
      "image/png": "[encoded data removed]",
      "text/plain": [
       "<Figure size 576x432 with 1 Axes>"
      ]
     },
     "metadata": {
      "needs_background": "light"
     },
     "output_type": "display_data"
    },
    {
     "name": "stdout",
     "output_type": "stream",
     "text": [
      "time: 104 ms (started: 2024-01-26 15:26:37 +01:00)\n"
     ]
    }
   ],
   "source": [
    "gname = \"ANXA5\"\n",
    "import matplotlib.pyplot as plt\n",
    "plt.figure(figsize=(8, 6))\n",
    "plt.plot(Rustody_Data[:,gname].X.todense(), BD_Data[:,gname].X.todense(), 'o', color='blue')  # 'o' represents marker style, you can change it as needed\n",
    "plt.xlabel( f\"Rustody {gname}\" )\n",
    "plt.ylabel( f\"BD {gname}\" )\n",
    "plt.title( f\"XY Plot of Rustody {gname} vs BD {gname}\" )\n",
    "plt.grid(True)\n",
    "plt.show()"
   ]
  },
  {
   "cell_type": "code",
   "execution_count": 24,
   "id": "f9613a96-0fd8-492d-90bd-5430c5d5f2a6",
   "metadata": {},
   "outputs": [
    {
     "data": {
      "text/plain": [
       "matrix([[43.]], dtype=float32)"
      ]
     },
     "execution_count": 24,
     "metadata": {},
     "output_type": "execute_result"
    },
    {
     "name": "stdout",
     "output_type": "stream",
     "text": [
      "time: 5.95 ms (started: 2024-01-26 15:26:37 +01:00)\n"
     ]
    }
   ],
   "source": [
    "Rustody_Data [Rustody_Data[:, 'ADA'].X > 40,:'ADA'].X.todense()"
   ]
  },
  {
   "cell_type": "code",
   "execution_count": 25,
   "id": "09827093-297d-40cb-a011-ccb668cbcda3",
   "metadata": {},
   "outputs": [
    {
     "data": {
      "text/plain": [
       "matrix([[1]])"
      ]
     },
     "execution_count": 25,
     "metadata": {},
     "output_type": "execute_result"
    },
    {
     "name": "stdout",
     "output_type": "stream",
     "text": [
      "time: 6.44 ms (started: 2024-01-26 15:26:37 +01:00)\n"
     ]
    }
   ],
   "source": [
    "BD_Data ['6206212',:'ADA'].X.todense()"
   ]
  },
  {
   "cell_type": "code",
   "execution_count": 26,
   "id": "60d2cac6-5584-4ee9-803f-cf63c4f58ea5",
   "metadata": {},
   "outputs": [
    {
     "data": {
      "text/plain": [
       "Index(['Cell6206212_VDJ_Example_Data'], dtype='object')"
      ]
     },
     "execution_count": 26,
     "metadata": {},
     "output_type": "execute_result"
    },
    {
     "name": "stdout",
     "output_type": "stream",
     "text": [
      "time: 4.65 ms (started: 2024-01-26 15:26:37 +01:00)\n"
     ]
    }
   ],
   "source": [
    "Rustody_Data [Rustody_Data[:, 'ADA'].X > 40].obs_names\n"
   ]
  },
  {
   "cell_type": "code",
   "execution_count": 27,
   "id": "541c4f9a-0d1b-4a9b-98e3-650d30279580",
   "metadata": {},
   "outputs": [
    {
     "name": "stdout",
     "output_type": "stream",
     "text": [
      "\u001b[0m\u001b[0m\u001b[0m\u001b[0m\u001b[0m\u001b[32mrustody\u001b[0m\u001b[0m \u001b[0m\u001b[0m0.1.1\u001b[0m\u001b[0m\n",
      "\u001b[0m\u001b[0mStefan L. <stefan.lang@med.lu.se>\u001b[0m\u001b[0m\n",
      "\u001b[0m\u001b[0m\u001b[0m\u001b[0m\n",
      "\u001b[0m\u001b[0m\u001b[33mUSAGE:\u001b[0m\u001b[0m\n",
      "    \u001b[0m\u001b[0mbd_get_single_cell --reads <READS> --file <FILE> --id <ID> --outpath <OUTPATH> --version <VERSION>\u001b[0m\u001b[0m\n",
      "\n",
      "\u001b[0m\u001b[0m\u001b[33mOPTIONS:\n",
      "\u001b[0m\u001b[0m    \u001b[0m\u001b[0m\u001b[32m-f\u001b[0m\u001b[0m, \u001b[0m\u001b[0m\u001b[32m--file\u001b[0m\u001b[0m \u001b[0m\u001b[0m\u001b[32m<FILE>\u001b[0m\u001b[0m          \u001b[0m\u001b[0mthe input R2 samples file\u001b[0m\u001b[0m\n",
      "\u001b[0m\u001b[0m    \u001b[0m\u001b[0m\u001b[32m-h\u001b[0m\u001b[0m, \u001b[0m\u001b[0m\u001b[32m--help\u001b[0m\u001b[0m                 \u001b[0m\u001b[0mPrint help information\u001b[0m\u001b[0m\n",
      "\u001b[0m\u001b[0m    \u001b[0m\u001b[0m\u001b[32m-i\u001b[0m\u001b[0m, \u001b[0m\u001b[0m\u001b[32m--id\u001b[0m\u001b[0m \u001b[0m\u001b[0m\u001b[32m<ID>\u001b[0m\u001b[0m              \u001b[0m\u001b[0mthe specie of the library [mouse, human]\u001b[0m\u001b[0m\n",
      "\u001b[0m\u001b[0m    \u001b[0m\u001b[0m\u001b[32m-o\u001b[0m\u001b[0m, \u001b[0m\u001b[0m\u001b[32m--outpath\u001b[0m\u001b[0m \u001b[0m\u001b[0m\u001b[32m<OUTPATH>\u001b[0m\u001b[0m    \u001b[0m\u001b[0mthe outpath\u001b[0m\u001b[0m\n",
      "\u001b[0m\u001b[0m    \u001b[0m\u001b[0m\u001b[32m-r\u001b[0m\u001b[0m, \u001b[0m\u001b[0m\u001b[32m--reads\u001b[0m\u001b[0m \u001b[0m\u001b[0m\u001b[32m<READS>\u001b[0m\u001b[0m        \u001b[0m\u001b[0mthe input R1 reads file\u001b[0m\u001b[0m\n",
      "\u001b[0m\u001b[0m    \u001b[0m\u001b[0m\u001b[32m-v\u001b[0m\u001b[0m, \u001b[0m\u001b[0m\u001b[32m--version\u001b[0m\u001b[0m \u001b[0m\u001b[0m\u001b[32m<VERSION>\u001b[0m\u001b[0m    \u001b[0m\u001b[0mthe version of beads you used v1, v2.96 or v2.384\u001b[0m\u001b[0m\u001b[0m\u001b[0m\u001b[0m\u001b[0m\n",
      "\u001b[0mtime: 127 ms (started: 2024-01-26 15:26:37 +01:00)\n"
     ]
    }
   ],
   "source": [
    "! bd_get_single_cell -hCTGTGGAGTCACCCCAACTCTGTGGGGCTGAGCAACATTTTTACATTTATTCCTTCCAAGAAGACCATGAACTCA"
   ]
  },
  {
   "cell_type": "code",
   "execution_count": 28,
   "id": "f2f18160-d5c2-4455-a3ae-ac7d9b4d3c37",
   "metadata": {},
   "outputs": [
    {
     "name": "stdout",
     "output_type": "stream",
     "text": [
      "bd_get_single_cell -r /mnt/data2/RhapsodyTest/VDJ_v1_example/RhapVDJDemo-mRNA_S5_L004_R1_001.fastq.gz -f /mnt/data2/RhapsodyTest/VDJ_v1_example/RhapVDJDemo-mRNA_S5_L004_R2_001.fastq.gz -i 6206212 -o /mnt/data2/RhapsodyTest/VDJ_v1_example/rustify_testData_result/ -v v1\n",
      "writing all reads from the cell 6206212\n",
      "\u001b[2K\u001b[1m\u001b[2m[100/?]\u001b[0m ⠠ cell read (any/6206212) 1200000/16720 here I have cell 3835448        I found 17348 reads for the cell 6206212\n",
      "\u001b[2Ktime: 34.6 s (started: 2024-01-26 15:26:37 +01:00)\n"
     ]
    }
   ],
   "source": [
    "print ( f\"bd_get_single_cell -r {R1[0]} -f {R2[0]} -i 6206212 -o {out} -v v1\")\n",
    "! bd_get_single_cell -r {R1[0]} -f {R2[0]} -i 6206212 -o {out} -v v1"
   ]
  },
  {
   "cell_type": "markdown",
   "id": "63319fb9-09b9-4a90-8d17-4bdd4b4be316",
   "metadata": {},
   "source": [
    "# These likely contain something else\n",
    "\n",
    "Now Any gene detected. Likely the Igh and TCR reads."
   ]
  },
  {
   "cell_type": "code",
   "execution_count": 29,
   "id": "8a3ec561-1ec7-415d-8bce-0932aa209b87",
   "metadata": {},
   "outputs": [
    {
     "name": "stdout",
     "output_type": "stream",
     "text": [
      "bd_get_single_cell -r /mnt/data2/RhapsodyTest/VDJ_v1_example/RhapVDJDemo-mRNA_S5_L004_R1_001.fastq.gz -f /mnt/data2/RhapsodyTest/VDJ_v1_example/RhapVDJDemo-mRNA_S5_L004_R2_001.fastq.gz -i 6206212 -o /mnt/data2/RhapsodyTest/VDJ_v1_example/rustify_testData_result/ -v v1\n",
      "writing all reads from the cell 6206212\n",
      "\u001b[2K\u001b[1m\u001b[2m[100/?]\u001b[0m ⠐ cell read (any/6206212) 1300000/17426 here I have cell 596373         I found 17897 reads for the cell 6206212\n",
      "\u001b[2Ktime: 31.9 s (started: 2024-01-26 15:27:12 +01:00)\n"
     ]
    }
   ],
   "source": [
    "print ( f\"bd_get_single_cell -r {R1[0]} -f {R2[0]} -i 6206212 -o {out} -v v1\")\n",
    "! bd_get_single_cell -r {R1[1]} -f {R2[1]} -i 6206212 -o {out} -v v1"
   ]
  },
  {
   "cell_type": "markdown",
   "id": "e3a139a6-6de1-400a-a930-a8ec948c4be9",
   "metadata": {},
   "source": [
    "## Finding matched to ADA\n",
    "\n",
    "I have modified my quantify_rhapsody_multi to report ADA matches and got these matches in the R1[1] R2[1] pair:\n",
    "\n",
    "```\n",
    "\"CTGAGGAGTCACCCCAACTCTGTGCGCCTGAGCAACATTTTTACAATTATTCATACCAAGAAGACAAAGATATCA\"\n",
    "\"CTGTGGAGTCACCCCAACTCTGTGGGGCTGAGCAACATTTTTACATTTATTCCTTCCAAGAAGACCATGATCTCA\"\n",
    "\"CTGTGGAGTCACCCCAACTCTGTGGGGCTGAGCAACATTTTTACATTTATTCCTTCCAAGAAGACCATGATCTCA\"\n",
    "\"CTGTGGAGTCACCCCAACTCTGTGGGGCTGAGCAACATTTTTACATTTATTCCTTCCAAGAAGACCATGATCTCA\"\n",
    "\"CTGTGGAGTCACCCCAACTCTGTGGGGCTGAGCAACATTTTTACATTTATTCCTTCCAAGAAGACCATGATCTCA\"\n",
    "\"CTGTGGAGTCACCCCAACTCTGTGGGGCTGAGCAACATTTTTACATTTATTCCTTCCAAGAAGACCATGATCTCA\"\n",
    "\"CTGTGGAGTCACCCCAACTCTGTGGGGCTGAGCAACATTTTTACATTTATTCCTTCCAAGAAGACCATGGTCTCA\"\n",
    "\"CTGTGGAGTCACCCCAACTCTGTGGGGCTGAGCAACATATTTACATTTATTCCTTCCAAGAAGACCATGATCTCA\"\n",
    "\"CTGTGGAGTCACCCCAACTCTGTGGGGCTGAGCAACATTTTTACATTTATTCCTTCCAAGAAGACCATGATCTCA\"\n",
    "\"CTGTGGAGTCACCCCAACTCTGTGGGGCTGAGCAACATTTTTACATTTATTCCTTCCAAGAAGACCATGATCTCA\"\n",
    "\"CTGTGGAGTCACCCCAACTCTGTGGGGCTGAGCAACATTTTTACATTTATTCCTTCCAAGAAGACCATGATCTCA\"\n",
    "\"CTGTGGAGTCACCCCAACTCTGTGGGGCTGAGCAACATTTTTACAATTATTCCTTCAAAGAATACAATGATATAA\"\n",
    "\"CTGTGGAGTCACCCCAACTCTGTGGGGCTGAGCAACATTTTTACATTTATTCCTTCCAAGAAGACCATGATCTCA\"\n",
    "\"CTGTGGAGTCACCCCAACTCTGTGGGGCTGAGCAACATTTTTACATTTATTCCTTCCAAGAAGACCATGATCTCA\"\n",
    "\"CTGTGGAGTCACCCCAACTCTGTGGGGCTGAGCAACATTTTTACATTTATTCCTTCCAAGAAGACCATGATCTCA\"\n",
    "\"CTGTGGAGTCACCCCAACTCTGTGGGGCTGAGCAACATTTTTACATTTATTCCTTCCAAGAAGACCATGATCTCA\"\n",
    "\"CTGTGGAGTCACCCCAACTCTGTGGGGCTGAGCAACATTTTTACATTTATTCCTTCCAAGAAGACCATGATCTCA\"\n",
    "\"CTGTGTAGTCACCCCAACTCTGTGGGGCTGAGCAACATTTTTACATTTATTCCTTCCAAGAAGACCATGATCTCA\"\n",
    "\"CTGTGGAGTCACCCCAACTCTGTGGGGCTGAGCAACATTTTTACATTTATTCCTTCCAAGAAGACCATGATCTCA\"\n",
    "\"CTGTGGAGTCACCCCAACTCTGTGGGGCTGAGCAACATTTTTACATTTATTCCTTCCAAGAAGACCATGATCTCA\"\n",
    "\"CTGTGGAGTCACCCCAACTCTGTGGGGCTGAGCAACATTTTTACATTTATTCCTTCCAAGAAGACCATGATCTCA\"\n",
    "\"CTGTGGAGTCACCCCAACTCTGTGGGGCTGAGCAACATTTTTACATTTATTCCTTCCAAGAAGACCATGATCTCA\"\n",
    "\"CTGTGGAGTCACCCCAACTCTGTGGGGCTGAGCAACATTTTTACATTTATTCCTTCCAAGAAGACCATGATCTCA\"\n",
    "\"CTGTGGAGTCACCCCAACTCTGTGGGGCTGAGCAGCATTTTTACATTTATTCCTTCCAAGAAGACCATGATCTCA\"\n",
    "```\n",
    "\n",
    "There are some single nucleotide polimorphisms - but the sequence matches to ADA using online NCBI-Blast.\n"
   ]
  },
  {
   "cell_type": "code",
   "execution_count": 30,
   "id": "8684497e-bbe7-427e-8b92-2de5e4950409",
   "metadata": {},
   "outputs": [
    {
     "name": "stdout",
     "output_type": "stream",
     "text": [
      "bd_get_single_cell -r /mnt/data2/RhapsodyTest/VDJ_v1_example/RhapVDJDemo-mRNA_S5_L001_R1_001.fastq.gz -f /mnt/data2/RhapsodyTest/VDJ_v1_example/RhapVDJDemo-mRNA_S5_L001_R2_001.fastq.gz -i 6206212 -o /mnt/data2/RhapsodyTest/VDJ_v1_example/rustify_testData_result/ -v v1\n",
      "writing all reads from the cell 6206212\n",
      "\u001b[2K\u001b[1m\u001b[2m[100/?]\u001b[0m ⠐ cell read (any/6206212) 1300000/18899 here I have cell 8578256        I found 19115 reads for the cell 6206212\n",
      "\u001b[2Ktime: 34.5 s (started: 2024-01-26 15:27:44 +01:00)\n"
     ]
    }
   ],
   "source": [
    "print ( f\"bd_get_single_cell -r {R1[2]} -f {R2[2]} -i 6206212 -o {out} -v v1\")\n",
    "! bd_get_single_cell -r {R1[2]} -f {R2[2]} -i 6206212 -o {out} -v v1"
   ]
  },
  {
   "cell_type": "markdown",
   "id": "37b8c140-da52-4e66-82d0-fca13b04f52a",
   "metadata": {},
   "source": [
    "# Only one read in there:\n",
    "\n",
    "```\n",
    "CTGTGGAGTCACCCCAACTCTGTGGGGCTGAGCAACATTTTTACATTTATTCCTTCCAAGAAGACCATGATCTCA\n",
    "```\n",
    "\n",
    "Total of 25 reads - I can not collect the UMIs without changing a lot in the logics of my Rust project - so I am not going to do that."
   ]
  },
  {
   "cell_type": "code",
   "execution_count": 31,
   "id": "d234969f-1519-4985-956b-550659177191",
   "metadata": {},
   "outputs": [
    {
     "name": "stdout",
     "output_type": "stream",
     "text": [
      "bd_get_single_cell -r /mnt/data2/RhapsodyTest/VDJ_v1_example/RhapVDJDemo-mRNA_S5_L002_R1_001.fastq.gz -f /mnt/data2/RhapsodyTest/VDJ_v1_example/RhapVDJDemo-mRNA_S5_L003_R2_001.fastq.gz -i 6206212 -o /mnt/data2/RhapsodyTest/VDJ_v1_example/rustify_testData_result/ -v v1\n",
      "writing all reads from the cell 6206212\n",
      "\u001b[2K\u001b[1m\u001b[2m[100/?]\u001b[0m ⠐ cell read (any/6206212) 1300000/18127 here I have cell 1784458        I found 18425 reads for the cell 6206212\n",
      "\u001b[2Ktime: 32.1 s (started: 2024-01-26 15:28:18 +01:00)\n"
     ]
    }
   ],
   "source": [
    "print ( f\"bd_get_single_cell -r {R1[3]} -f {R2[3]} -i 6206212 -o {out} -v v1\")\n",
    "! bd_get_single_cell -r {R1[3]} -f {R2[3]} -i 6206212 -o {out} -v v1"
   ]
  },
  {
   "cell_type": "markdown",
   "id": "e9bfd14d-6ae3-4918-92c6-1b3dfb9f6c00",
   "metadata": {},
   "source": [
    "# And more once again:\n",
    "\n",
    "```\n",
    "\"CTGTGGAGTCACCCCAACTCTGTGGGGCTGAGCAACATTTTTACATTTATTCCTTCCAAGAAGACCATGAACTCA\"\n",
    "\"CTGTGGAGTCACCCCAACTCTGTGGGGCTGAGCAACATTTTTACATTTATTCCTTCCAAGAAGACCATGATCTCA\"\n",
    "\"CTGTGGAGTCACCCCAACTCTGTGGGGCTGAGCAACATTTTTACATTTATTCCTTCCAAGAAGACCATGATCTCA\"\n",
    "\"CTGTGGAGTCACCCCAACTCTGTGGGGCTGAGCAACATTTTTACATTTATTCCTTCCAAGAAGACCATGATCTCA\"\n",
    "\"CTGTGGAGTCACCCCAACTCTGTGGGGCTGAGCAACATTTTTACATTTATTCCTTCCAAGAAGACCATGATCTCA\"\n",
    "\"CTGTGGAGTCACCCCAACTCTGTGGGGCTGAGCAACATTTTTACATTTATTCCTTCCAAGAAGACCATGATCTCA\"\n",
    "\"CTGTGGAGTCACCCCAACTCAGTGGGGCTGAGCAAAATTTTTACATTTTATCCTTGGAAGAAGACCATGATCTCA\"\n",
    "\"CTGTGGAGTCACCCCAACTCTGTAGGGCTGAGCAACATTTTTACATTTATTCCTTCCAAGAAGACCATGATCTCA\"\n",
    "\"CTGTGGAGTCACCCCAACTCTGTGGGGCTGAGCAACATTTTTACATTTATTCCTTCCAAGAAGACAATGATCTCA\"\n",
    "\"CTGTGGAGTCACCCCAACTCTGTGGGGCTGAGCAACATTTTTACGTTTATTCCTTCCAAGAAGACCATGATCTCA\"\n",
    "\"CTGTGGAGTCACCCCAACTCTGTGGGGCTGAGCAACATTTTTACATTTATTCCTTCCAAGAAGACCATGATCTCA\"\n",
    "\"CTGTGGAGTCACCCCAACTCTGTGGGGCTGAGCAACATTTTTACATTTATTCCTTCCAAGAAGACCATGATCTCA\"\n",
    "\"CTGTGGAGTCACCCCAACTCTGTGGGGCTGAGCAACATTTTTACATTTATTCCTTCCAAGAAGACCATGATCTCA\"\n",
    "\"CTGTGGAGTCACCCCAACTCTGTGGGGCTGAGCAACATTTTTACATTTATTCCTTCCGAGAAGACCATGATCTCA\"\n",
    "\"CTGTGGAGTCACCCCAACTCTGTGGGGCTGAGCAACATTTTTACATTTATTCCTTCCAAGAAGACCATGATCTCA\"\n",
    "\"CTGTGGAGTCACCCCAACTCTGTGGGGCTGAGCAACATTTTTACATTTATTCCTTCCAAGAAGACCATGATCTCA\"\n",
    "\"CTGTGGAGTCACCCCAACTCTGTGGGGCTGAGCAACATTTTTACATTTATTCCTTCCAAGAAGACCATGATCTCA\"\n",
    "\"CTGTGGAGTCACCCCAACTCTGTGGGGCTGAGCAACACTTTTACATTTATTCCTTCCAAGAAGACCATTATCTAA\"\n",
    "```\n",
    "To a total of 43 reads in total."
   ]
  },
  {
   "cell_type": "code",
   "execution_count": 33,
   "id": "c5390439-38f0-418c-91aa-077a82e4e3c7",
   "metadata": {},
   "outputs": [
    {
     "name": "stdout",
     "output_type": "stream",
     "text": [
      "total 47M\n",
      "-rw-rw-r-- 1 med-sal med-sal    20 Jan 26 13:07  OneSingleCell.6206211.R2.fastq.gz\n",
      "-rw-rw-r-- 1 med-sal med-sal    20 Jan 26 13:07  OneSingleCell.6206211.R1.fastq.gz\n",
      "-rw-rw-r-- 1 med-sal med-sal  356K Jan 26 13:51  f1_OneSingleCell.6206212.R2.fastq.gz\n",
      "-rw-rw-r-- 1 med-sal med-sal  414K Jan 26 13:51  f1_OneSingleCell.6206212.R1.fastq.gz\n",
      "-rw-rw-r-- 1 med-sal med-sal  3.6M Jan 26 15:24  index.1.Index\n",
      "-rw-rw-r-- 1 med-sal med-sal  2.4K Jan 26 15:24  index.1.gene.txt\n",
      "-rw-rw-r-- 1 med-sal med-sal   23M Jan 26 15:24  index.1.Index.txt\n",
      "-rw-rw-r-- 1 med-sal med-sal     0 Jan 26 15:26 'Mapping_log_ThreadId(9).txt'\n",
      "-rw-rw-r-- 1 med-sal med-sal     0 Jan 26 15:26 'Mapping_log_ThreadId(8).txt'\n",
      "-rw-rw-r-- 1 med-sal med-sal     0 Jan 26 15:26 'Mapping_log_ThreadId(7).txt'\n",
      "-rw-rw-r-- 1 med-sal med-sal     0 Jan 26 15:26 'Mapping_log_ThreadId(6).txt'\n",
      "-rw-rw-r-- 1 med-sal med-sal     0 Jan 26 15:26 'Mapping_log_ThreadId(5).txt'\n",
      "-rw-rw-r-- 1 med-sal med-sal     0 Jan 26 15:26 'Mapping_log_ThreadId(4).txt'\n",
      "-rw-rw-r-- 1 med-sal med-sal     0 Jan 26 15:26 'Mapping_log_ThreadId(3).txt'\n",
      "-rw-rw-r-- 1 med-sal med-sal     0 Jan 26 15:26 'Mapping_log_ThreadId(2).txt'\n",
      "-rw-rw-r-- 1 med-sal med-sal     0 Jan 26 15:26 'Mapping_log_ThreadId(13).txt'\n",
      "-rw-rw-r-- 1 med-sal med-sal     0 Jan 26 15:26 'Mapping_log_ThreadId(12).txt'\n",
      "-rw-rw-r-- 1 med-sal med-sal     0 Jan 26 15:26 'Mapping_log_ThreadId(11).txt'\n",
      "-rw-rw-r-- 1 med-sal med-sal     0 Jan 26 15:26 'Mapping_log_ThreadId(10).txt'\n",
      "-rw-rw-r-- 1 med-sal med-sal  980K Jan 26 15:26 'Umapped_with_cellIDThreadId(2).1.R2.fastq.gz'\n",
      "-rw-rw-r-- 1 med-sal med-sal  496K Jan 26 15:26 'Umapped_with_cellIDThreadId(2).1.R1.fastq.gz'\n",
      "-rw-rw-r-- 1 med-sal med-sal  988K Jan 26 15:26 'Umapped_with_cellIDThreadId(5).1.R2.fastq.gz'\n",
      "-rw-rw-r-- 1 med-sal med-sal  500K Jan 26 15:26 'Umapped_with_cellIDThreadId(5).1.R1.fastq.gz'\n",
      "-rw-rw-r-- 1 med-sal med-sal  1.0M Jan 26 15:26 'Umapped_with_cellIDThreadId(10).1.R2.fastq.gz'\n",
      "-rw-rw-r-- 1 med-sal med-sal  524K Jan 26 15:26 'Umapped_with_cellIDThreadId(10).1.R1.fastq.gz'\n",
      "-rw-rw-r-- 1 med-sal med-sal  1.1M Jan 26 15:26 'Umapped_with_cellIDThreadId(4).1.R2.fastq.gz'\n",
      "-rw-rw-r-- 1 med-sal med-sal  564K Jan 26 15:26 'Umapped_with_cellIDThreadId(4).1.R1.fastq.gz'\n",
      "-rw-rw-r-- 1 med-sal med-sal  927K Jan 26 15:26 'Umapped_with_cellIDThreadId(6).1.R2.fastq.gz'\n",
      "-rw-rw-r-- 1 med-sal med-sal  472K Jan 26 15:26 'Umapped_with_cellIDThreadId(6).1.R1.fastq.gz'\n",
      "-rw-rw-r-- 1 med-sal med-sal  862K Jan 26 15:26 'Umapped_with_cellIDThreadId(12).1.R2.fastq.gz'\n",
      "-rw-rw-r-- 1 med-sal med-sal  443K Jan 26 15:26 'Umapped_with_cellIDThreadId(12).1.R1.fastq.gz'\n",
      "-rw-rw-r-- 1 med-sal med-sal  1.3M Jan 26 15:26 'Umapped_with_cellIDThreadId(3).1.R2.fastq.gz'\n",
      "-rw-rw-r-- 1 med-sal med-sal  654K Jan 26 15:26 'Umapped_with_cellIDThreadId(3).1.R1.fastq.gz'\n",
      "-rw-rw-r-- 1 med-sal med-sal 1004K Jan 26 15:26 'Umapped_with_cellIDThreadId(9).1.R2.fastq.gz'\n",
      "-rw-rw-r-- 1 med-sal med-sal  503K Jan 26 15:26 'Umapped_with_cellIDThreadId(9).1.R1.fastq.gz'\n",
      "-rw-rw-r-- 1 med-sal med-sal  1.2M Jan 26 15:26 'Umapped_with_cellIDThreadId(7).1.R2.fastq.gz'\n",
      "-rw-rw-r-- 1 med-sal med-sal  605K Jan 26 15:26 'Umapped_with_cellIDThreadId(7).1.R1.fastq.gz'\n",
      "-rw-rw-r-- 1 med-sal med-sal  1.1M Jan 26 15:26 'Umapped_with_cellIDThreadId(11).1.R2.fastq.gz'\n",
      "-rw-rw-r-- 1 med-sal med-sal  570K Jan 26 15:26 'Umapped_with_cellIDThreadId(11).1.R1.fastq.gz'\n",
      "-rw-rw-r-- 1 med-sal med-sal  1.1M Jan 26 15:26 'Umapped_with_cellIDThreadId(13).1.R2.fastq.gz'\n",
      "-rw-rw-r-- 1 med-sal med-sal  544K Jan 26 15:26 'Umapped_with_cellIDThreadId(13).1.R1.fastq.gz'\n",
      "-rw-rw-r-- 1 med-sal med-sal  893K Jan 26 15:26 'Umapped_with_cellIDThreadId(8).1.R2.fastq.gz'\n",
      "-rw-rw-r-- 1 med-sal med-sal  453K Jan 26 15:26 'Umapped_with_cellIDThreadId(8).1.R1.fastq.gz'\n",
      "drwxrwxr-x 2 med-sal med-sal  4.0K Jan 26 15:26  BD_Rhapsody_expression\n",
      "-rw-rw-r-- 1 med-sal med-sal  123K Jan 26 15:26  SampleCounts.tsv\n",
      "-rw-rw-r-- 1 med-sal med-sal  1.5K Jan 26 15:26  Mapping_log.txt\n",
      "-rw-rw-r-- 1 med-sal med-sal    20 Jan 26 15:26  Umapped_with_cellID.1.R2.fastq.gz\n",
      "-rw-rw-r-- 1 med-sal med-sal    20 Jan 26 15:26  Umapped_with_cellID.1.R1.fastq.gz\n",
      "-rw-rw-r-- 1 med-sal med-sal  371K Jan 26 15:28  OneSingleCell.6206212.R2.fastq.gz\n",
      "-rw-rw-r-- 1 med-sal med-sal  647K Jan 26 15:28  OneSingleCell.6206212.R1.fastq.gz\n",
      "time: 134 ms (started: 2024-01-26 15:29:35 +01:00)\n"
     ]
    }
   ],
   "source": [
    "! ls -lhrt {out}"
   ]
  },
  {
   "cell_type": "code",
   "execution_count": 34,
   "id": "14bb4fe8-4d8f-481d-9b95-9e3482372bf4",
   "metadata": {},
   "outputs": [
    {
     "data": {
      "text/plain": [
       "array([[1., 2., 1., ..., 0., 3., 1.]], dtype=float32)"
      ]
     },
     "execution_count": 34,
     "metadata": {},
     "output_type": "execute_result"
    },
    {
     "name": "stdout",
     "output_type": "stream",
     "text": [
      "time: 8.06 ms (started: 2024-01-26 15:29:37 +01:00)\n"
     ]
    }
   ],
   "source": [
    "np.array(Rustody_Data[:, \"ADA\"].X.todense()[:,0].transpose())"
   ]
  },
  {
   "cell_type": "code",
   "execution_count": 35,
   "id": "5220fbff-c847-4d05-b7c3-4e70bb0dee5a",
   "metadata": {},
   "outputs": [
    {
     "data": {
      "image/png": "[encoded data removed]",
      "text/plain": [
       "<Figure size 576x432 with 2 Axes>"
      ]
     },
     "metadata": {
      "needs_background": "light"
     },
     "output_type": "display_data"
    },
    {
     "name": "stdout",
     "output_type": "stream",
     "text": [
      "time: 2.12 s (started: 2024-01-26 15:29:38 +01:00)\n"
     ]
    }
   ],
   "source": [
    "import seaborn as sns\n",
    "import matplotlib.pyplot as plt\n",
    "\n",
    "# Assuming Rustody_Data and BD_Data are pandas DataFrames\n",
    "# Assuming you want to plot the \"ADA\" column from both DataFrames\n",
    "\n",
    "# Extracting data from the \"ADA\" column\n",
    "rustody_x = np.array(Rustody_Data[:, \"ADA\"].X.todense()[:,0].transpose()).ravel()\n",
    "bd_x = np.array(BD_Data[:, \"ADA\"].X.todense()[:,0].transpose()).ravel()\n",
    "\n",
    "# Creating the 2D density plot\n",
    "plt.figure(figsize=(8, 6))\n",
    "sns.kdeplot(rustody_x, bd_x, cmap=\"Blues\", shade=True, cbar=True)\n",
    "plt.xlabel('Rustody ADA')\n",
    "plt.ylabel('BD ADA')\n",
    "plt.title('2D Density Plot of Rustody ADA vs BD ADA')\n",
    "plt.grid(True)\n",
    "plt.show()"
   ]
  },
  {
   "cell_type": "code",
   "execution_count": 36,
   "id": "50f67538-5a2f-41ff-9562-4fb07aa40c6e",
   "metadata": {},
   "outputs": [
    {
     "data": {
      "image/png": "[encoded data removed]",
      "text/plain": [
       "<Figure size 576x432 with 2 Axes>"
      ]
     },
     "metadata": {
      "needs_background": "light"
     },
     "output_type": "display_data"
    },
    {
     "name": "stdout",
     "output_type": "stream",
     "text": [
      "time: 279 ms (started: 2024-01-26 15:29:40 +01:00)\n"
     ]
    }
   ],
   "source": [
    "import matplotlib.pyplot as plt\n",
    "\n",
    "# Assuming Rustody_Data and BD_Data are pandas DataFrames\n",
    "# Assuming you want to plot the \"ADA\" column from both DataFrames\n",
    "\n",
    "# Extracting data from the \"ADA\" column\n",
    "rustody_x = np.array(Rustody_Data[:, \"ADA\"].X.todense()[:,0].transpose()).ravel()\n",
    "bd_x = np.array(BD_Data[:, \"ADA\"].X.todense()[:,0].transpose()).ravel()\n",
    "\n",
    "# Creating the hexbin plot\n",
    "plt.figure(figsize=(8, 6))\n",
    "plt.hexbin(rustody_x, bd_x, gridsize=50, cmap='Blues', bins='log')\n",
    "plt.colorbar(label='log10(count)')\n",
    "plt.xlabel('Rustody ADA')\n",
    "plt.ylabel('BD ADA')\n",
    "plt.title('Hexbin Plot of Rustody ADA vs BD ADA')\n",
    "plt.grid(True)\n",
    "plt.show()"
   ]
  },
  {
   "cell_type": "markdown",
   "id": "28c098ff-dd5e-446a-8b56-c3d69fa32e50",
   "metadata": {},
   "source": [
    "# So what if the data I got from BD is actually only looking into file 3 of 4?\n",
    "\n",
    "As the BD data reports 1 reads for ADA in the whole data, but I really really find 43 ones in all 4 files there is a possibility that the BD exmaple data is also only looking into this one file - right?\n",
    "\n",
    "This could hopefully also explain my horrible correlation values. Let's try with only file 3/4."
   ]
  },
  {
   "cell_type": "code",
   "execution_count": 37,
   "id": "5753a4f9-172d-4bfc-8b44-1bee2383f491",
   "metadata": {},
   "outputs": [
    {
     "name": "stdout",
     "output_type": "stream",
     "text": [
      "Analysis will stop after having processed 18446744073709551615 fastq entries containing a cell info\n",
      "\n",
      "init models\n",
      "the log file: Mapping_log.txt\n",
      "Changing the expression start gene id to 398\n",
      "After indexing all fastq files we have the following indices:\n",
      "the mRNA index:\n",
      "I have 41210 kmers for 398 genes with 0.16652039% duplicate entries\n",
      "gene names like 'phiX174'\n",
      "gene_ids range from Some(0) to Some(397)\n",
      "\n",
      "the sample id index:\n",
      "I have 384 kmers for 12 genes with 0% duplicate entries\n",
      "gene names like 'Sample12'\n",
      "gene_ids range from Some(398) to Some(409)\n",
      "\n",
      "and the antibodies index:\n",
      "This index is empty\n",
      "\n",
      "Writing index version 6\n",
      "with kmer_len 32\n",
      "And a total of 41210 data entries\n",
      "\n",
      "Parsing file pair 1\n",
      "\n",
      "I am using 12 cpus\n",
      "\u001b[2K\u001b[1m\u001b[2m\u001b[0m   1.97 mio reads (63.67% with cell_id, 62.53% with gene_id)                    \n",
      "\n",
      "Writing outfiles ...\n",
      "filtering cells\n",
      "Dropping cell with too little counts (n=74294)\n",
      "3015 cells have passed the cutoff of 20 umi counts per cell.\n",
      "\n",
      "\n",
      "writing gene expression\n",
      "sparse Matrix: 3015 cell(s), 357 gene(s) and 144862 entries written to path Ok(\"/mnt/data2/RhapsodyTest/VDJ_v1_example/rustify_testData_result/BD_Rhapsody_expression\"); \n",
      "Writing Antibody counts\n",
      "No genes to report on - no data written to path Some(\"/mnt/data2/RhapsodyTest/VDJ_v1_example/rustify_testData_result/BD_Rhapsody_antibodies\")\n",
      "Writing samples table\n",
      "dense matrix: 3015 cell written\n",
      "\n",
      "Summary:\n",
      "cellular   reads  : 1251143 reads (63.67% of total)\n",
      "no cell ID reads  : 590727 reads (30.06% of total)\n",
      "no gene ID reads  : 0 reads (0.00% of total)\n",
      "filtered   reads  : 123166 reads (6.27% of total)\n",
      " ->        polyA  : 0 reads (0.00% of total)\n",
      " -> bad qualiity  : 122722 reads (6.25% of total)\n",
      " ->    too short  : 90 reads (0.00% of total)\n",
      " ->          N's  : 354 reads (0.02% of total)\n",
      "\n",
      "total      reads  : 1965036 reads\n",
      "\n",
      "collected read counts:\n",
      "expression reads  : 1228646 reads (98.20% of cellular)\n",
      "antibody reads    : 0 reads (0.00% of cellular)\n",
      "sample reads      : 0 reads (0.00% of cellular)\n",
      "\n",
      "reported UMI counts:\n",
      "expression reads  : 600164 UMIs (47.97% of cellular)\n",
      "antibody reads    : 0 UMIs (0.00% of cellular)\n",
      "sample reads      : 0 UMIs (0.00% of cellular)\n",
      "\n",
      "PCR duplicates or bad cells: 650979 reads (52.03% of cellular)\n",
      "\n",
      "timings:\n",
      "   overall run time 0 h 0 min 25 sec 686 millisec\n",
      "   file-io run time 0 h 0 min 3 sec 900 millisec\n",
      "single-cpu run time 0 h 0 min 0 sec 317 millisec\n",
      " multi-cpu run time 0 h 0 min 20 sec 729 millisec\n",
      "\n",
      "\n",
      "Cell->Sample table written to \"/mnt/data2/RhapsodyTest/VDJ_v1_example/rustify_testData_result/SampleCounts.tsv\"\n",
      "\n",
      "quantify_rhapsody finished in 0h 0min 25 sec 687milli sec\n",
      "\n",
      "time: 25.9 s (started: 2024-01-26 15:29:40 +01:00)\n"
     ]
    }
   ],
   "source": [
    "exe = \"quantify_rhapsody_multi\"\n",
    "R1 = [#\"/mnt/data2/RhapsodyTest/VDJ_v1_example/RhapVDJDemo-mRNA_S5_L004_R1_001.fastq.gz\"\n",
    "      #,\"/mnt/data2/RhapsodyTest/VDJ_v1_example/RhapVDJDemo-mRNA_S5_L003_R1_001.fastq.gz\",\n",
    "      \"/mnt/data2/RhapsodyTest/VDJ_v1_example/RhapVDJDemo-mRNA_S5_L001_R1_001.fastq.gz\"\n",
    "      #,\"/mnt/data2/RhapsodyTest/VDJ_v1_example/RhapVDJDemo-mRNA_S5_L002_R1_001.fastq.gz\"\n",
    "     ]\n",
    "r1 = \",\".join(R1)\n",
    "R2 = [ #\"/mnt/data2/RhapsodyTest/VDJ_v1_example/RhapVDJDemo-mRNA_S5_L004_R2_001.fastq.gz\"\n",
    "      #,\"/mnt/data2/RhapsodyTest/VDJ_v1_example/RhapVDJDemo-mRNA_S5_L002_R2_001.fastq.gz\",\n",
    "      \"/mnt/data2/RhapsodyTest/VDJ_v1_example/RhapVDJDemo-mRNA_S5_L001_R2_001.fastq.gz\"\n",
    "      #,\"/mnt/data2/RhapsodyTest/VDJ_v1_example/RhapVDJDemo-mRNA_S5_L003_R2_001.fastq.gz\"\n",
    "]\n",
    "r2 = \",\".join(R2)\n",
    "out = \"/mnt/data2/RhapsodyTest/VDJ_v1_example/rustify_testData_result\"\n",
    "exp = \"/mnt/data2/RhapsodyTest/VDJ_v1_example/BD_Rhapsody_Immune_Response_Panel_Hs.fasta\"\n",
    "\n",
    "! {exe} -r {r1} -f {r2} -o {out} -s human -e {exp} -m 20 -v 'v1' 1>&2"
   ]
  },
  {
   "cell_type": "code",
   "execution_count": 38,
   "id": "c8037eca-bfd0-4a54-9b7d-53773774b235",
   "metadata": {},
   "outputs": [
    {
     "name": "stdout",
     "output_type": "stream",
     "text": [
      "reading Rustody expression from path /mnt/data2/RhapsodyTest/VDJ_v1_example/rustify_testData_result/BD_Rhapsody_expression/\n"
     ]
    },
    {
     "data": {
      "text/plain": [
       "AnnData object with n_obs × n_vars = 3015 × 357\n",
       "    obs: 'sample', 'CellID', 'Sample1', 'Sample2', 'Sample3', 'Sample4', 'Sample5', 'Sample6', 'Sample7', 'Sample8', 'Sample9', 'Sample10', 'Sample11', 'Sample12', 'AsignedSampleName', 'FractionTotal', 'n'\n",
       "    var: 'gene_ids', 'feature_types'"
      ]
     },
     "execution_count": 38,
     "metadata": {},
     "output_type": "execute_result"
    },
    {
     "name": "stdout",
     "output_type": "stream",
     "text": [
      "time: 254 ms (started: 2024-01-26 15:30:06 +01:00)\n"
     ]
    }
   ],
   "source": [
    "Rustody_Data = readRustodyExpression( out, 'VDJ_Example_Data')\n",
    "Rustody_Data"
   ]
  },
  {
   "cell_type": "code",
   "execution_count": 39,
   "id": "e262f458-85bf-48dc-880c-45cdf0ba7ec1",
   "metadata": {},
   "outputs": [
    {
     "name": "stdout",
     "output_type": "stream",
     "text": [
      "time: 4.72 ms (started: 2024-01-26 15:30:06 +01:00)\n"
     ]
    }
   ],
   "source": [
    "Rustody_Data = Rustody_Data[[ name for name in BD_Data.obs['Rustody_Names'] if name in Rustody_Data.obs_names]]"
   ]
  },
  {
   "cell_type": "code",
   "execution_count": 40,
   "id": "b7e48d2c-e91c-4453-9e7f-e68c7cec7ad7",
   "metadata": {},
   "outputs": [
    {
     "data": {
      "text/plain": [
       "['CCL1',\n",
       " 'CCL2',\n",
       " 'CCL22',\n",
       " 'CD80',\n",
       " 'CTSG',\n",
       " 'IL13',\n",
       " 'IL1RL1',\n",
       " 'IL5',\n",
       " 'LRRC32',\n",
       " 'MME',\n",
       " 'MMP9']"
      ]
     },
     "execution_count": 40,
     "metadata": {},
     "output_type": "execute_result"
    },
    {
     "name": "stdout",
     "output_type": "stream",
     "text": [
      "time: 3.57 ms (started: 2024-01-26 15:30:06 +01:00)\n"
     ]
    }
   ],
   "source": [
    "[name for name in BD_Data.var_names if name not in Rustody_Data.var_names ]"
   ]
  },
  {
   "cell_type": "code",
   "execution_count": 41,
   "id": "0d38d22e-13fa-4817-b143-4ac2892531bd",
   "metadata": {},
   "outputs": [
    {
     "name": "stdout",
     "output_type": "stream",
     "text": [
      "View of AnnData object with n_obs × n_vars = 2722 × 357\n",
      "    obs: 'sample', 'CellID', 'Sample1', 'Sample2', 'Sample3', 'Sample4', 'Sample5', 'Sample6', 'Sample7', 'Sample8', 'Sample9', 'Sample10', 'Sample11', 'Sample12', 'AsignedSampleName', 'FractionTotal', 'n'\n",
      "    var: 'gene_ids', 'feature_types'\n",
      "time: 2.13 ms (started: 2024-01-26 15:30:06 +01:00)\n"
     ]
    }
   ],
   "source": [
    "print(Rustody_Data)"
   ]
  },
  {
   "cell_type": "code",
   "execution_count": 42,
   "id": "1f9c4099-9b51-4b8b-8b58-fdcd62f134d5",
   "metadata": {},
   "outputs": [
    {
     "name": "stdout",
     "output_type": "stream",
     "text": [
      "View of AnnData object with n_obs × n_vars = 2722 × 367\n",
      "    obs: 'Cell_Type_Experimental', 'Total_VDJ_Read_Count', 'Total_VDJ_Molecule_Count', 'BCR_Heavy_V_gene_Dominant', 'BCR_Heavy_D_gene_Dominant', 'BCR_Heavy_J_gene_Dominant', 'BCR_Heavy_C_gene_Dominant', 'BCR_Heavy_CDR3_Nucleotide_Dominant', 'BCR_Heavy_CDR3_Translation_Dominant', 'BCR_Heavy_Read_Count', 'BCR_Heavy_Molecule_Count', 'BCR_Light_V_gene_Dominant', 'BCR_Light_J_gene_Dominant', 'BCR_Light_C_gene_Dominant', 'BCR_Light_CDR3_Nucleotide_Dominant', 'BCR_Light_CDR3_Translation_Dominant', 'BCR_Light_Read_Count', 'BCR_Light_Molecule_Count', 'TCR_Alpha_Gamma_V_gene_Dominant', 'TCR_Alpha_Gamma_J_gene_Dominant', 'TCR_Alpha_Gamma_C_gene_Dominant', 'TCR_Alpha_Gamma_CDR3_Nucleotide_Dominant', 'TCR_Alpha_Gamma_CDR3_Translation_Dominant', 'TCR_Alpha_Gamma_Read_Count', 'TCR_Alpha_Gamma_Molecule_Count', 'TCR_Beta_Delta_V_gene_Dominant', 'TCR_Beta_Delta_D_gene_Dominant', 'TCR_Beta_Delta_J_gene_Dominant', 'TCR_Beta_Delta_C_gene_Dominant', 'TCR_Beta_Delta_CDR3_Nucleotide_Dominant', 'TCR_Beta_Delta_CDR3_Translation_Dominant', 'TCR_Beta_Delta_Read_Count', 'TCR_Beta_Delta_Molecule_Count', 'BCR_Paired_Chains', 'TCR_Paired_Chains', 'source', 'Rustody_Names'\n",
      "    var: 'Raw_Reads', 'Raw_Molecules', 'Raw_Seq_Depth', 'RSEC_Adjusted_Molecules', 'RSEC_Adjusted_Reads_non-singleton', 'RSEC_Adjusted_Molecules_non-singleton'\n",
      "    uns: 'Pipeline_Inputs', 'Pipeline_Metrics'\n",
      "    obsm: 'X_tsne'\n",
      "time: 3.48 ms (started: 2024-01-26 15:30:06 +01:00)\n"
     ]
    }
   ],
   "source": [
    "print(BD_Data)"
   ]
  },
  {
   "cell_type": "code",
   "execution_count": 43,
   "id": "abf05230-73fa-4e4c-ada6-1ae5ad63f949",
   "metadata": {},
   "outputs": [
    {
     "data": {
      "text/html": [
       "<div>\n",
       "<style scoped>\n",
       "    .dataframe tbody tr th:only-of-type {\n",
       "        vertical-align: middle;\n",
       "    }\n",
       "\n",
       "    .dataframe tbody tr th {\n",
       "        vertical-align: top;\n",
       "    }\n",
       "\n",
       "    .dataframe thead th {\n",
       "        text-align: right;\n",
       "    }\n",
       "</style>\n",
       "<table border=\"1\" class=\"dataframe\">\n",
       "  <thead>\n",
       "    <tr style=\"text-align: right;\">\n",
       "      <th></th>\n",
       "      <th>0</th>\n",
       "      <th>1</th>\n",
       "      <th>gname</th>\n",
       "    </tr>\n",
       "  </thead>\n",
       "  <tbody>\n",
       "    <tr>\n",
       "      <th>0</th>\n",
       "      <td>0.859934</td>\n",
       "      <td>0.000000e+00</td>\n",
       "      <td>ADA</td>\n",
       "    </tr>\n",
       "    <tr>\n",
       "      <th>1</th>\n",
       "      <td>0.716971</td>\n",
       "      <td>0.000000e+00</td>\n",
       "      <td>ADGRE1</td>\n",
       "    </tr>\n",
       "    <tr>\n",
       "      <th>2</th>\n",
       "      <td>0.697156</td>\n",
       "      <td>0.000000e+00</td>\n",
       "      <td>ADGRG3</td>\n",
       "    </tr>\n",
       "    <tr>\n",
       "      <th>3</th>\n",
       "      <td>0.626344</td>\n",
       "      <td>1.577742e-296</td>\n",
       "      <td>AIM2</td>\n",
       "    </tr>\n",
       "    <tr>\n",
       "      <th>4</th>\n",
       "      <td>0.878897</td>\n",
       "      <td>0.000000e+00</td>\n",
       "      <td>ANXA5</td>\n",
       "    </tr>\n",
       "    <tr>\n",
       "      <th>...</th>\n",
       "      <td>...</td>\n",
       "      <td>...</td>\n",
       "      <td>...</td>\n",
       "    </tr>\n",
       "    <tr>\n",
       "      <th>351</th>\n",
       "      <td>0.829147</td>\n",
       "      <td>0.000000e+00</td>\n",
       "      <td>XBP1</td>\n",
       "    </tr>\n",
       "    <tr>\n",
       "      <th>352</th>\n",
       "      <td>0.875166</td>\n",
       "      <td>0.000000e+00</td>\n",
       "      <td>YBX3</td>\n",
       "    </tr>\n",
       "    <tr>\n",
       "      <th>353</th>\n",
       "      <td>0.684185</td>\n",
       "      <td>0.000000e+00</td>\n",
       "      <td>ZAP70</td>\n",
       "    </tr>\n",
       "    <tr>\n",
       "      <th>354</th>\n",
       "      <td>0.523339</td>\n",
       "      <td>2.716482e-191</td>\n",
       "      <td>ZBTB16</td>\n",
       "    </tr>\n",
       "    <tr>\n",
       "      <th>355</th>\n",
       "      <td>0.693025</td>\n",
       "      <td>0.000000e+00</td>\n",
       "      <td>ZNF683</td>\n",
       "    </tr>\n",
       "  </tbody>\n",
       "</table>\n",
       "<p>356 rows × 3 columns</p>\n",
       "</div>"
      ],
      "text/plain": [
       "            0              1   gname\n",
       "0    0.859934   0.000000e+00     ADA\n",
       "1    0.716971   0.000000e+00  ADGRE1\n",
       "2    0.697156   0.000000e+00  ADGRG3\n",
       "3    0.626344  1.577742e-296    AIM2\n",
       "4    0.878897   0.000000e+00   ANXA5\n",
       "..        ...            ...     ...\n",
       "351  0.829147   0.000000e+00    XBP1\n",
       "352  0.875166   0.000000e+00    YBX3\n",
       "353  0.684185   0.000000e+00   ZAP70\n",
       "354  0.523339  2.716482e-191  ZBTB16\n",
       "355  0.693025   0.000000e+00  ZNF683\n",
       "\n",
       "[356 rows x 3 columns]"
      ]
     },
     "execution_count": 43,
     "metadata": {},
     "output_type": "execute_result"
    },
    {
     "name": "stdout",
     "output_type": "stream",
     "text": [
      "time: 2.29 s (started: 2024-01-26 15:30:06 +01:00)\n"
     ]
    }
   ],
   "source": [
    "cmp = pd.DataFrame(\n",
    "    [ pearsonr( np.array(BD_Data[:,gene].X.todense()).flatten(), np.array( Rustody_Data[:,gene].X.todense()).flatten() ) for gene in Rustody_Data.var_names if gene in BD_Data.var_names ]  )\n",
    "cmp['gname'] = [gene  for gene in Rustody_Data.var_names if gene in BD_Data.var_names ]\n",
    "cmp"
   ]
  },
  {
   "cell_type": "code",
   "execution_count": 44,
   "id": "3c936097-9d2a-4c17-a07c-1a5efe196711",
   "metadata": {},
   "outputs": [
    {
     "data": {
      "text/plain": [
       "Index([], dtype='object')"
      ]
     },
     "execution_count": 44,
     "metadata": {},
     "output_type": "execute_result"
    },
    {
     "name": "stdout",
     "output_type": "stream",
     "text": [
      "time: 3.14 ms (started: 2024-01-26 15:30:09 +01:00)\n"
     ]
    }
   ],
   "source": [
    "Rustody_Data [Rustody_Data[:, 'ADA'].X > 40].obs_names"
   ]
  },
  {
   "cell_type": "code",
   "execution_count": 45,
   "id": "af281118-7265-430d-a9d2-25944cd57d6c",
   "metadata": {},
   "outputs": [
    {
     "data": {
      "image/png": "[encoded data removed]",
      "text/plain": [
       "<Figure size 576x432 with 1 Axes>"
      ]
     },
     "metadata": {
      "needs_background": "light"
     },
     "output_type": "display_data"
    },
    {
     "name": "stdout",
     "output_type": "stream",
     "text": [
      "time: 101 ms (started: 2024-01-26 15:30:09 +01:00)\n"
     ]
    }
   ],
   "source": [
    "gname = \"ADA\"\n",
    "import matplotlib.pyplot as plt\n",
    "plt.figure(figsize=(8, 6))\n",
    "plt.plot(Rustody_Data[:,gname].X.todense(), BD_Data[:,gname].X.todense(), 'o', color='blue')  # 'o' represents marker style, you can change it as needed\n",
    "plt.xlabel( f\"Rustody {gname}\" )\n",
    "plt.ylabel( f\"BD {gname}\" )\n",
    "plt.title( f\"XY Plot of Rustody {gname} vs BD {gname}\" )\n",
    "plt.grid(True)\n",
    "plt.show()"
   ]
  },
  {
   "cell_type": "markdown",
   "id": "b6714c1e-180c-4d15-b48f-7768a20f6517",
   "metadata": {},
   "source": [
    "# Next option : merge file 1/4 + file 3 of 4\n",
    "\n",
    "With 0 having no ADA reads for the cell of interest."
   ]
  },
  {
   "cell_type": "code",
   "execution_count": 46,
   "id": "983ea4a1-9e06-4628-bb94-8f724da68fa1",
   "metadata": {},
   "outputs": [
    {
     "name": "stdout",
     "output_type": "stream",
     "text": [
      "quantify_rhapsody_multi -r /mnt/data2/RhapsodyTest/VDJ_v1_example/RhapVDJDemo-mRNA_S5_L004_R1_001.fastq.gz,/mnt/data2/RhapsodyTest/VDJ_v1_example/RhapVDJDemo-mRNA_S5_L001_R1_001.fastq.gz -f /mnt/data2/RhapsodyTest/VDJ_v1_example/RhapVDJDemo-mRNA_S5_L004_R2_001.fastq.gz,/mnt/data2/RhapsodyTest/VDJ_v1_example/RhapVDJDemo-mRNA_S5_L001_R2_001.fastq.gz -o /mnt/data2/RhapsodyTest/VDJ_v1_example/rustify_testData_result -s human -e /mnt/data2/RhapsodyTest/VDJ_v1_example/BD_Rhapsody_Immune_Response_Panel_Hs.fasta -m 20 -v 'v1' 1>&2\n",
      "Analysis will stop after having processed 18446744073709551615 fastq entries containing a cell info\n",
      "\n",
      "init models\n",
      "the log file: Mapping_log.txt\n",
      "Changing the expression start gene id to 398\n",
      "After indexing all fastq files we have the following indices:\n",
      "the mRNA index:\n",
      "I have 41210 kmers for 398 genes with 0.16652039% duplicate entries\n",
      "gene names like 'phiX174'\n",
      "gene_ids range from Some(0) to Some(397)\n",
      "\n",
      "the sample id index:\n",
      "I have 384 kmers for 12 genes with 0% duplicate entries\n",
      "gene names like 'Sample12'\n",
      "gene_ids range from Some(398) to Some(409)\n",
      "\n",
      "and the antibodies index:\n",
      "This index is empty\n",
      "\n",
      "Writing index version 6\n",
      "with kmer_len 32\n",
      "And a total of 41210 data entries\n",
      "\n",
      "Parsing file pair 1\n",
      "\n",
      "I am using 12 cpus\n",
      "\u001b[2K\u001b[1m\u001b[2m\u001b[0m   1.90 mio reads (62.68% with cell_id, 61.58% with gene_id)                    \n",
      "Parsing file pair 2\n",
      "\n",
      "I am using 12 cpus\n",
      "\u001b[2K\u001b[1m\u001b[2m\u001b[0m   3.86 mio reads (63.18% with cell_id, 62.06% with gene_id)                    \n",
      "\n",
      "Writing outfiles ...\n",
      "filtering cells\n",
      "Dropping cell with too little counts (n=105257)\n",
      "3756 cells have passed the cutoff of 20 umi counts per cell.\n",
      "\n",
      "\n",
      "writing gene expression\n",
      "sparse Matrix: 3756 cell(s), 361 gene(s) and 173964 entries written to path Ok(\"/mnt/data2/RhapsodyTest/VDJ_v1_example/rustify_testData_result/BD_Rhapsody_expression\"); \n",
      "Writing Antibody counts\n",
      "No genes to report on - no data written to path Some(\"/mnt/data2/RhapsodyTest/VDJ_v1_example/rustify_testData_result/BD_Rhapsody_antibodies\")\n",
      "Writing samples table\n",
      "dense matrix: 3756 cell written\n",
      "\n",
      "Summary:\n",
      "cellular   reads  : 2440902 reads (63.18% of total)\n",
      "no cell ID reads  : 1182320 reads (30.60% of total)\n",
      "no gene ID reads  : 0 reads (0.00% of total)\n",
      "filtered   reads  : 239952 reads (6.21% of total)\n",
      " ->        polyA  : 0 reads (0.00% of total)\n",
      " -> bad qualiity  : 238592 reads (6.18% of total)\n",
      " ->    too short  : 365 reads (0.01% of total)\n",
      " ->          N's  : 995 reads (0.03% of total)\n",
      "\n",
      "total      reads  : 3863174 reads\n",
      "\n",
      "collected read counts:\n",
      "expression reads  : 2397458 reads (98.22% of cellular)\n",
      "antibody reads    : 0 reads (0.00% of cellular)\n",
      "sample reads      : 0 reads (0.00% of cellular)\n",
      "\n",
      "reported UMI counts:\n",
      "expression reads  : 843659 UMIs (34.56% of cellular)\n",
      "antibody reads    : 0 UMIs (0.00% of cellular)\n",
      "sample reads      : 0 UMIs (0.00% of cellular)\n",
      "\n",
      "PCR duplicates or bad cells: 1597243 reads (65.44% of cellular)\n",
      "\n",
      "timings:\n",
      "   overall run time 0 h 0 min 50 sec 50 millisec\n",
      "   file-io run time 0 h 0 min 7 sec 758 millisec\n",
      "single-cpu run time 0 h 0 min 0 sec 645 millisec\n",
      " multi-cpu run time 0 h 0 min 40 sec 727 millisec\n",
      "\n",
      "\n",
      "Cell->Sample table written to \"/mnt/data2/RhapsodyTest/VDJ_v1_example/rustify_testData_result/SampleCounts.tsv\"\n",
      "\n",
      "quantify_rhapsody finished in 0h 0min 50 sec 51milli sec\n",
      "\n",
      "time: 50.3 s (started: 2024-01-26 15:30:09 +01:00)\n"
     ]
    }
   ],
   "source": [
    "exe = \"quantify_rhapsody_multi\"\n",
    "R1 = [\"/mnt/data2/RhapsodyTest/VDJ_v1_example/RhapVDJDemo-mRNA_S5_L004_R1_001.fastq.gz\",\n",
    "      #\"/mnt/data2/RhapsodyTest/VDJ_v1_example/RhapVDJDemo-mRNA_S5_L003_R1_001.fastq.gz\",\n",
    "      \"/mnt/data2/RhapsodyTest/VDJ_v1_example/RhapVDJDemo-mRNA_S5_L001_R1_001.fastq.gz\"\n",
    "      #,\"/mnt/data2/RhapsodyTest/VDJ_v1_example/RhapVDJDemo-mRNA_S5_L002_R1_001.fastq.gz\"\n",
    "     ]\n",
    "r1 = \",\".join(R1)\n",
    "R2 = [ \"/mnt/data2/RhapsodyTest/VDJ_v1_example/RhapVDJDemo-mRNA_S5_L004_R2_001.fastq.gz\",\n",
    "      #\"/mnt/data2/RhapsodyTest/VDJ_v1_example/RhapVDJDemo-mRNA_S5_L002_R2_001.fastq.gz\",\n",
    "      \"/mnt/data2/RhapsodyTest/VDJ_v1_example/RhapVDJDemo-mRNA_S5_L001_R2_001.fastq.gz\"\n",
    "      #,\"/mnt/data2/RhapsodyTest/VDJ_v1_example/RhapVDJDemo-mRNA_S5_L003_R2_001.fastq.gz\"\n",
    "]\n",
    "r2 = \",\".join(R2)\n",
    "out = \"/mnt/data2/RhapsodyTest/VDJ_v1_example/rustify_testData_result\"\n",
    "exp = \"/mnt/data2/RhapsodyTest/VDJ_v1_example/BD_Rhapsody_Immune_Response_Panel_Hs.fasta\"\n",
    "\n",
    "print( f\"{exe} -r {r1} -f {r2} -o {out} -s human -e {exp} -m 20 -v 'v1' 1>&2\" )\n",
    "! {exe} -r {r1} -f {r2} -o {out} -s human -e {exp} -m 20 -v 'v1' 1>&2"
   ]
  },
  {
   "cell_type": "code",
   "execution_count": 47,
   "id": "2d091e1a-bdff-4a2a-99bc-aee52c90b091",
   "metadata": {},
   "outputs": [
    {
     "name": "stdout",
     "output_type": "stream",
     "text": [
      "reading Rustody expression from path /mnt/data2/RhapsodyTest/VDJ_v1_example/rustify_testData_result/BD_Rhapsody_expression/\n"
     ]
    },
    {
     "data": {
      "text/plain": [
       "AnnData object with n_obs × n_vars = 3756 × 361\n",
       "    obs: 'sample', 'CellID', 'Sample1', 'Sample2', 'Sample3', 'Sample4', 'Sample5', 'Sample6', 'Sample7', 'Sample8', 'Sample9', 'Sample10', 'Sample11', 'Sample12', 'AsignedSampleName', 'FractionTotal', 'n'\n",
       "    var: 'gene_ids', 'feature_types'"
      ]
     },
     "execution_count": 47,
     "metadata": {},
     "output_type": "execute_result"
    },
    {
     "name": "stdout",
     "output_type": "stream",
     "text": [
      "time: 257 ms (started: 2024-01-26 15:30:59 +01:00)\n"
     ]
    }
   ],
   "source": [
    "Rustody_Data = readRustodyExpression( out, 'VDJ_Example_Data')\n",
    "Rustody_Data"
   ]
  },
  {
   "cell_type": "code",
   "execution_count": 48,
   "id": "202fa93c-c1bd-4f00-b9d9-2dd0b5f7f32c",
   "metadata": {},
   "outputs": [
    {
     "name": "stdout",
     "output_type": "stream",
     "text": [
      "time: 4.9 ms (started: 2024-01-26 15:30:59 +01:00)\n"
     ]
    }
   ],
   "source": [
    "Rustody_Data = Rustody_Data[[ name for name in BD_Data.obs['Rustody_Names'] if name in Rustody_Data.obs_names]]"
   ]
  },
  {
   "cell_type": "code",
   "execution_count": 49,
   "id": "ba9cf171-19c3-4177-b893-6647cee96a23",
   "metadata": {},
   "outputs": [
    {
     "data": {
      "text/plain": [
       "['CCL1', 'CCL2', 'CD80', 'CTSG', 'IL13', 'IL1RL1', 'IL5', 'LRRC32']"
      ]
     },
     "execution_count": 49,
     "metadata": {},
     "output_type": "execute_result"
    },
    {
     "name": "stdout",
     "output_type": "stream",
     "text": [
      "time: 3.14 ms (started: 2024-01-26 15:30:59 +01:00)\n"
     ]
    }
   ],
   "source": [
    "[name for name in BD_Data.var_names if name not in Rustody_Data.var_names ]"
   ]
  },
  {
   "cell_type": "code",
   "execution_count": 50,
   "id": "a26d07b8-c736-4d45-a932-1c866ef362b8",
   "metadata": {},
   "outputs": [
    {
     "data": {
      "text/html": [
       "<div>\n",
       "<style scoped>\n",
       "    .dataframe tbody tr th:only-of-type {\n",
       "        vertical-align: middle;\n",
       "    }\n",
       "\n",
       "    .dataframe tbody tr th {\n",
       "        vertical-align: top;\n",
       "    }\n",
       "\n",
       "    .dataframe thead th {\n",
       "        text-align: right;\n",
       "    }\n",
       "</style>\n",
       "<table border=\"1\" class=\"dataframe\">\n",
       "  <thead>\n",
       "    <tr style=\"text-align: right;\">\n",
       "      <th></th>\n",
       "      <th>0</th>\n",
       "      <th>1</th>\n",
       "      <th>gname</th>\n",
       "    </tr>\n",
       "  </thead>\n",
       "  <tbody>\n",
       "    <tr>\n",
       "      <th>0</th>\n",
       "      <td>0.915861</td>\n",
       "      <td>0.000000e+00</td>\n",
       "      <td>ADA</td>\n",
       "    </tr>\n",
       "    <tr>\n",
       "      <th>1</th>\n",
       "      <td>0.837386</td>\n",
       "      <td>0.000000e+00</td>\n",
       "      <td>ADGRE1</td>\n",
       "    </tr>\n",
       "    <tr>\n",
       "      <th>2</th>\n",
       "      <td>0.764103</td>\n",
       "      <td>0.000000e+00</td>\n",
       "      <td>ADGRG3</td>\n",
       "    </tr>\n",
       "    <tr>\n",
       "      <th>3</th>\n",
       "      <td>0.731499</td>\n",
       "      <td>0.000000e+00</td>\n",
       "      <td>AIM2</td>\n",
       "    </tr>\n",
       "    <tr>\n",
       "      <th>4</th>\n",
       "      <td>0.933087</td>\n",
       "      <td>0.000000e+00</td>\n",
       "      <td>ANXA5</td>\n",
       "    </tr>\n",
       "    <tr>\n",
       "      <th>...</th>\n",
       "      <td>...</td>\n",
       "      <td>...</td>\n",
       "      <td>...</td>\n",
       "    </tr>\n",
       "    <tr>\n",
       "      <th>354</th>\n",
       "      <td>0.890507</td>\n",
       "      <td>0.000000e+00</td>\n",
       "      <td>XBP1</td>\n",
       "    </tr>\n",
       "    <tr>\n",
       "      <th>355</th>\n",
       "      <td>0.933416</td>\n",
       "      <td>0.000000e+00</td>\n",
       "      <td>YBX3</td>\n",
       "    </tr>\n",
       "    <tr>\n",
       "      <th>356</th>\n",
       "      <td>0.801191</td>\n",
       "      <td>0.000000e+00</td>\n",
       "      <td>ZAP70</td>\n",
       "    </tr>\n",
       "    <tr>\n",
       "      <th>357</th>\n",
       "      <td>0.643430</td>\n",
       "      <td>5.186504e-318</td>\n",
       "      <td>ZBTB16</td>\n",
       "    </tr>\n",
       "    <tr>\n",
       "      <th>358</th>\n",
       "      <td>0.834421</td>\n",
       "      <td>0.000000e+00</td>\n",
       "      <td>ZNF683</td>\n",
       "    </tr>\n",
       "  </tbody>\n",
       "</table>\n",
       "<p>359 rows × 3 columns</p>\n",
       "</div>"
      ],
      "text/plain": [
       "            0              1   gname\n",
       "0    0.915861   0.000000e+00     ADA\n",
       "1    0.837386   0.000000e+00  ADGRE1\n",
       "2    0.764103   0.000000e+00  ADGRG3\n",
       "3    0.731499   0.000000e+00    AIM2\n",
       "4    0.933087   0.000000e+00   ANXA5\n",
       "..        ...            ...     ...\n",
       "354  0.890507   0.000000e+00    XBP1\n",
       "355  0.933416   0.000000e+00    YBX3\n",
       "356  0.801191   0.000000e+00   ZAP70\n",
       "357  0.643430  5.186504e-318  ZBTB16\n",
       "358  0.834421   0.000000e+00  ZNF683\n",
       "\n",
       "[359 rows x 3 columns]"
      ]
     },
     "execution_count": 50,
     "metadata": {},
     "output_type": "execute_result"
    },
    {
     "name": "stdout",
     "output_type": "stream",
     "text": [
      "time: 2.32 s (started: 2024-01-26 15:30:59 +01:00)\n"
     ]
    }
   ],
   "source": [
    "cmp = pd.DataFrame(\n",
    "    [ pearsonr( np.array(BD_Data[:,gene].X.todense()).flatten(), np.array( Rustody_Data[:,gene].X.todense()).flatten() ) for gene in Rustody_Data.var_names if gene in BD_Data.var_names ]  )\n",
    "cmp['gname'] = [gene  for gene in Rustody_Data.var_names if gene in BD_Data.var_names ]\n",
    "cmp"
   ]
  },
  {
   "cell_type": "code",
   "execution_count": 51,
   "id": "d043e4ce-1512-44ec-b537-6203f9e9cdaa",
   "metadata": {},
   "outputs": [
    {
     "data": {
      "image/png": "[encoded data removed]",
      "text/plain": [
       "<Figure size 576x432 with 1 Axes>"
      ]
     },
     "metadata": {
      "needs_background": "light"
     },
     "output_type": "display_data"
    },
    {
     "name": "stdout",
     "output_type": "stream",
     "text": [
      "time: 101 ms (started: 2024-01-26 15:31:02 +01:00)\n"
     ]
    }
   ],
   "source": [
    "gname = \"ADA\"\n",
    "import matplotlib.pyplot as plt\n",
    "plt.figure(figsize=(8, 6))\n",
    "plt.plot(Rustody_Data[:,gname].X.todense(), BD_Data[:,gname].X.todense(), 'o', color='blue')  # 'o' represents marker style, you can change it as needed\n",
    "plt.xlabel( f\"Rustody {gname}\" )\n",
    "plt.ylabel( f\"BD {gname}\" )\n",
    "plt.title( f\"XY Plot of Rustody {gname} vs BD {gname}\" )\n",
    "plt.grid(True)\n",
    "plt.show()"
   ]
  },
  {
   "cell_type": "code",
   "execution_count": 52,
   "id": "c6bd2e70-1b34-40d8-9f2b-d8566952b679",
   "metadata": {},
   "outputs": [
    {
     "data": {
      "image/png": "[encoded data removed]",
      "text/plain": [
       "<Figure size 576x432 with 2 Axes>"
      ]
     },
     "metadata": {
      "needs_background": "light"
     },
     "output_type": "display_data"
    },
    {
     "name": "stdout",
     "output_type": "stream",
     "text": [
      "time: 331 ms (started: 2024-01-26 15:31:02 +01:00)\n"
     ]
    }
   ],
   "source": [
    "import matplotlib.pyplot as plt\n",
    "\n",
    "# Assuming Rustody_Data and BD_Data are pandas DataFrames\n",
    "# Assuming you want to plot the \"ADA\" column from both DataFrames\n",
    "\n",
    "# Extracting data from the \"ADA\" column\n",
    "rustody_x = np.array(Rustody_Data[:, gname].X.todense()[:,0].transpose()).ravel()\n",
    "bd_x = np.array(BD_Data[:, gname].X.todense()[:,0].transpose()).ravel()\n",
    "\n",
    "# Creating the hexbin plot\n",
    "plt.figure(figsize=(8, 6))\n",
    "plt.hexbin(rustody_x, bd_x, gridsize=50, cmap='Blues', bins='log')\n",
    "plt.colorbar(label='log10(count)')\n",
    "plt.xlabel(f\"Rustody {gname}\")\n",
    "plt.ylabel(f\"BD {gname}\")\n",
    "plt.title('Hexbin Plot of Rustody vs BD')\n",
    "plt.grid(True)\n",
    "plt.show()"
   ]
  },
  {
   "cell_type": "markdown",
   "id": "58f090a4-aa23-4a47-8b3c-f27856d23bef",
   "metadata": {},
   "source": [
    "# I need to pinch that back to BD\n",
    "\n",
    "I do not understand how they got this data!"
   ]
  },
  {
   "cell_type": "code",
   "execution_count": null,
   "id": "d4b4aca1-cca1-4a55-b280-408e3e426da7",
   "metadata": {},
   "outputs": [],
   "source": []
  },
  {
   "cell_type": "code",
   "execution_count": null,
   "id": "73ded65a-f025-4c68-a9d0-a80900456ab7",
   "metadata": {},
   "outputs": [],
   "source": []
  }
 ],
 "metadata": {
  "kernelspec": {
   "display_name": "Python 3 (ipykernel)",
   "language": "python",
   "name": "python3"
  },
  "language_info": {
   "codemirror_mode": {
    "name": "ipython",
    "version": 3
   },
   "file_extension": ".py",
   "mimetype": "text/x-python",
   "name": "python",
   "nbconvert_exporter": "python",
   "pygments_lexer": "ipython3",
   "version": "3.8.2"
  }
 },
 "nbformat": 4,
 "nbformat_minor": 5
}
